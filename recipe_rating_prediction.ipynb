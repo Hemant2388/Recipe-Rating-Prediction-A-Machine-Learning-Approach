{
  "metadata": {
    "kernelspec": {
      "language": "python",
      "display_name": "Python 3",
      "name": "python3"
    },
    "language_info": {
      "name": "python",
      "version": "3.10.12",
      "mimetype": "text/x-python",
      "codemirror_mode": {
        "name": "ipython",
        "version": 3
      },
      "pygments_lexer": "ipython3",
      "nbconvert_exporter": "python",
      "file_extension": ".py"
    },
    "kaggle": {
      "accelerator": "none",
      "dataSources": [
        {
          "sourceId": 67079,
          "databundleVersionId": 7452256,
          "sourceType": "competition"
        }
      ],
      "dockerImageVersionId": 30626,
      "isInternetEnabled": false,
      "language": "python",
      "sourceType": "notebook",
      "isGpuEnabled": false
    },
    "colab": {
      "name": "21f1001345-notebook-t12024",
      "provenance": [],
      "include_colab_link": true
    }
  },
  "nbformat_minor": 0,
  "nbformat": 4,
  "cells": [
    {
      "cell_type": "markdown",
      "metadata": {
        "id": "view-in-github",
        "colab_type": "text"
      },
      "source": [
        "<a href=\"https://colab.research.google.com/github/Hemant2388/Recipe-Rating-Prediction-A-Machine-Learning-Approach/blob/main/recipe_rating_prediction.ipynb\" target=\"_parent\"><img src=\"https://colab.research.google.com/assets/colab-badge.svg\" alt=\"Open In Colab\"/></a>"
      ]
    },
    {
      "source": [
        "# IMPORTANT: SOME KAGGLE DATA SOURCES ARE PRIVATE\n",
        "# RUN THIS CELL IN ORDER TO IMPORT YOUR KAGGLE DATA SOURCES.\n",
        "import kagglehub\n",
        "kagglehub.login()\n"
      ],
      "metadata": {
        "id": "mf2xsKCGF4US"
      },
      "cell_type": "code",
      "outputs": [],
      "execution_count": null
    },
    {
      "source": [
        "# IMPORTANT: RUN THIS CELL IN ORDER TO IMPORT YOUR KAGGLE DATA SOURCES,\n",
        "# THEN FEEL FREE TO DELETE THIS CELL.\n",
        "# NOTE: THIS NOTEBOOK ENVIRONMENT DIFFERS FROM KAGGLE'S PYTHON\n",
        "# ENVIRONMENT SO THERE MAY BE MISSING LIBRARIES USED BY YOUR\n",
        "# NOTEBOOK.\n",
        "\n",
        "recipe_for_rating_predict_food_ratings_using_ml_path = kagglehub.competition_download('recipe-for-rating-predict-food-ratings-using-ml')\n",
        "\n",
        "print('Data source import complete.')\n"
      ],
      "metadata": {
        "id": "25ax4VDEF4UX"
      },
      "cell_type": "code",
      "outputs": [],
      "execution_count": null
    },
    {
      "cell_type": "code",
      "source": [
        "# This Python 3 environment comes with many helpful analytics libraries installed\n",
        "# It is defined by the kaggle/python Docker image: https://github.com/kaggle/docker-python\n",
        "# For example, here's several helpful packages to load\n",
        "\n",
        "import numpy as np # linear algebra\n",
        "import pandas as pd # data processing, CSV file I/O (e.g. pd.read_csv)\n",
        "\n",
        "# Input data files are available in the read-only \"../input/\" directory\n",
        "# For example, running this (by clicking run or pressing Shift+Enter) will list all files under the input directory\n",
        "\n",
        "import os\n",
        "for dirname, _, filenames in os.walk('/kaggle/input'):\n",
        "    for filename in filenames:\n",
        "        print(os.path.join(dirname, filename))\n",
        "\n",
        "# You can write up to 20GB to the current directory (/kaggle/working/) that gets preserved as output when you create a version using \"Save & Run All\"\n",
        "# You can also write temporary files to /kaggle/temp/, but they won't be saved outside of the current session"
      ],
      "metadata": {
        "_uuid": "8f2839f25d086af736a60e9eeb907d3b93b6e0e5",
        "_cell_guid": "b1076dfc-b9ad-4769-8c92-a6c4dae69d19",
        "execution": {
          "iopub.status.busy": "2024-04-21T12:43:50.044437Z",
          "iopub.execute_input": "2024-04-21T12:43:50.045648Z",
          "iopub.status.idle": "2024-04-21T12:43:50.056413Z",
          "shell.execute_reply.started": "2024-04-21T12:43:50.045588Z",
          "shell.execute_reply": "2024-04-21T12:43:50.054418Z"
        },
        "trusted": true,
        "id": "nnD9XeGnF4UY"
      },
      "outputs": [],
      "execution_count": null
    },
    {
      "cell_type": "code",
      "source": [
        "train = pd.read_csv('/kaggle/input/recipe-for-rating-predict-food-ratings-using-ml/train.csv')\n",
        "test = pd.read_csv(\"/kaggle/input/recipe-for-rating-predict-food-ratings-using-ml/test.csv\")\n",
        "sample = pd.read_csv(\"/kaggle/input/recipe-for-rating-predict-food-ratings-using-ml/sample.csv\")"
      ],
      "metadata": {
        "execution": {
          "iopub.status.busy": "2024-04-21T12:43:50.059502Z",
          "iopub.execute_input": "2024-04-21T12:43:50.060074Z",
          "iopub.status.idle": "2024-04-21T12:43:50.333034Z",
          "shell.execute_reply.started": "2024-04-21T12:43:50.060028Z",
          "shell.execute_reply": "2024-04-21T12:43:50.331364Z"
        },
        "trusted": true,
        "id": "INixl1E9F4UZ"
      },
      "outputs": [],
      "execution_count": null
    },
    {
      "cell_type": "code",
      "source": [
        "train.info()"
      ],
      "metadata": {
        "execution": {
          "iopub.status.busy": "2024-04-21T12:43:50.334798Z",
          "iopub.execute_input": "2024-04-21T12:43:50.335292Z",
          "iopub.status.idle": "2024-04-21T12:43:50.379482Z",
          "shell.execute_reply.started": "2024-04-21T12:43:50.335241Z",
          "shell.execute_reply": "2024-04-21T12:43:50.378375Z"
        },
        "trusted": true,
        "id": "A8FxYqw1F4Ua"
      },
      "outputs": [],
      "execution_count": null
    },
    {
      "cell_type": "code",
      "source": [
        "from sklearn.model_selection import train_test_split\n",
        "import matplotlib.pyplot as plt\n",
        "import seaborn as sns\n",
        "from sklearn.feature_extraction.text import ENGLISH_STOP_WORDS\n",
        "from sklearn.feature_extraction.text import CountVectorizer\n",
        "from sklearn.feature_extraction.text import TfidfTransformer\n",
        "from sklearn.pipeline import make_pipeline\n",
        "from sklearn.decomposition import TruncatedSVD\n",
        "from sklearn.preprocessing import StandardScaler\n",
        "from sklearn.feature_selection import RFE\n",
        "from sklearn.svm import SVC\n",
        "from sklearn.ensemble import RandomForestClassifier\n",
        "from sklearn.neighbors import KNeighborsClassifier\n",
        "from sklearn import svm\n",
        "from sklearn.tree import DecisionTreeClassifier\n",
        "from sklearn.linear_model import LogisticRegression\n",
        "from sklearn.ensemble import BaggingClassifier\n",
        "from sklearn.model_selection import RandomizedSearchCV\n",
        "from scipy.stats import uniform, randint\n",
        "from sklearn.ensemble import AdaBoostClassifier\n",
        "from sklearn.neural_network import MLPClassifier\n",
        "from sklearn.model_selection import RandomizedSearchCV, GridSearchCV\n",
        "from sklearn.metrics import accuracy_score"
      ],
      "metadata": {
        "execution": {
          "iopub.status.busy": "2024-04-21T12:43:50.381898Z",
          "iopub.execute_input": "2024-04-21T12:43:50.382268Z",
          "iopub.status.idle": "2024-04-21T12:43:51.608273Z",
          "shell.execute_reply.started": "2024-04-21T12:43:50.382235Z",
          "shell.execute_reply": "2024-04-21T12:43:51.607101Z"
        },
        "trusted": true,
        "id": "_t5e9Wa3F4Ua"
      },
      "outputs": [],
      "execution_count": null
    },
    {
      "cell_type": "markdown",
      "source": [
        "## Train Test Split"
      ],
      "metadata": {
        "id": "HfDXndq_F4Ub"
      }
    },
    {
      "cell_type": "code",
      "source": [
        "y = train['Rating']\n",
        "X = train.drop(columns=['Rating'])"
      ],
      "metadata": {
        "execution": {
          "iopub.status.busy": "2024-04-21T12:43:51.609682Z",
          "iopub.execute_input": "2024-04-21T12:43:51.610118Z",
          "iopub.status.idle": "2024-04-21T12:43:51.625534Z",
          "shell.execute_reply.started": "2024-04-21T12:43:51.610082Z",
          "shell.execute_reply": "2024-04-21T12:43:51.624271Z"
        },
        "trusted": true,
        "id": "zzGCF5cUF4Ud"
      },
      "outputs": [],
      "execution_count": null
    },
    {
      "cell_type": "code",
      "source": [
        "xtrain, xtest, ytrain, ytest = train_test_split(X, y, test_size = 0.2, random_state=42)"
      ],
      "metadata": {
        "execution": {
          "iopub.status.busy": "2024-04-21T12:43:51.628299Z",
          "iopub.execute_input": "2024-04-21T12:43:51.629019Z",
          "iopub.status.idle": "2024-04-21T12:43:51.648046Z",
          "shell.execute_reply.started": "2024-04-21T12:43:51.628958Z",
          "shell.execute_reply": "2024-04-21T12:43:51.646394Z"
        },
        "trusted": true,
        "id": "oZsHgOT8F4Ue"
      },
      "outputs": [],
      "execution_count": null
    },
    {
      "cell_type": "markdown",
      "source": [
        "## 1. Data Cleaning"
      ],
      "metadata": {
        "id": "L6s6dUusF4Uf"
      }
    },
    {
      "cell_type": "code",
      "source": [
        "xtrain.info()"
      ],
      "metadata": {
        "execution": {
          "iopub.status.busy": "2024-04-21T12:43:51.650236Z",
          "iopub.execute_input": "2024-04-21T12:43:51.650753Z",
          "iopub.status.idle": "2024-04-21T12:43:51.675649Z",
          "shell.execute_reply.started": "2024-04-21T12:43:51.650708Z",
          "shell.execute_reply": "2024-04-21T12:43:51.674379Z"
        },
        "trusted": true,
        "id": "Ob32agGKF4Uf"
      },
      "outputs": [],
      "execution_count": null
    },
    {
      "cell_type": "code",
      "source": [
        "xtrain.isnull().sum()\n",
        "# xtest.isnull().sum()"
      ],
      "metadata": {
        "execution": {
          "iopub.status.busy": "2024-04-21T12:43:51.677404Z",
          "iopub.execute_input": "2024-04-21T12:43:51.678028Z",
          "iopub.status.idle": "2024-04-21T12:43:51.698017Z",
          "shell.execute_reply.started": "2024-04-21T12:43:51.677818Z",
          "shell.execute_reply": "2024-04-21T12:43:51.696743Z"
        },
        "trusted": true,
        "id": "5Yhu5i3yF4Ug"
      },
      "outputs": [],
      "execution_count": null
    },
    {
      "cell_type": "code",
      "source": [
        "xtrain['Recipe_Review'] = xtrain['Recipe_Review'].fillna(value='NA')\n",
        "xtest['Recipe_Review'] = xtest['Recipe_Review'].fillna(value='NA')"
      ],
      "metadata": {
        "execution": {
          "iopub.status.busy": "2024-04-21T12:43:51.703161Z",
          "iopub.execute_input": "2024-04-21T12:43:51.703754Z",
          "iopub.status.idle": "2024-04-21T12:43:51.716588Z",
          "shell.execute_reply.started": "2024-04-21T12:43:51.703699Z",
          "shell.execute_reply": "2024-04-21T12:43:51.715334Z"
        },
        "trusted": true,
        "id": "BQk8XygCF4Ug"
      },
      "outputs": [],
      "execution_count": null
    },
    {
      "cell_type": "code",
      "source": [
        "# xtrain.duplicated().sum()\n",
        "xtest.duplicated().sum()"
      ],
      "metadata": {
        "execution": {
          "iopub.status.busy": "2024-04-21T12:43:51.718158Z",
          "iopub.execute_input": "2024-04-21T12:43:51.71896Z",
          "iopub.status.idle": "2024-04-21T12:43:51.740531Z",
          "shell.execute_reply.started": "2024-04-21T12:43:51.718788Z",
          "shell.execute_reply": "2024-04-21T12:43:51.739331Z"
        },
        "trusted": true,
        "id": "wSEIwn4gF4Uh"
      },
      "outputs": [],
      "execution_count": null
    },
    {
      "cell_type": "markdown",
      "source": [
        "## 2. Exploratory Data Analysis"
      ],
      "metadata": {
        "id": "44yzVrgnF4Uh"
      }
    },
    {
      "cell_type": "code",
      "source": [
        "ytrain.value_counts()\n",
        "# ytest.value_counts()"
      ],
      "metadata": {
        "execution": {
          "iopub.status.busy": "2024-04-21T12:43:51.741538Z",
          "iopub.execute_input": "2024-04-21T12:43:51.741915Z",
          "iopub.status.idle": "2024-04-21T12:43:51.750725Z",
          "shell.execute_reply.started": "2024-04-21T12:43:51.741884Z",
          "shell.execute_reply": "2024-04-21T12:43:51.749279Z"
        },
        "trusted": true,
        "id": "E5Av3GiQF4Uh"
      },
      "outputs": [],
      "execution_count": null
    },
    {
      "cell_type": "code",
      "source": [
        "# data is highly imbalanced"
      ],
      "metadata": {
        "execution": {
          "iopub.status.busy": "2024-04-21T12:43:51.753064Z",
          "iopub.execute_input": "2024-04-21T12:43:51.753523Z",
          "iopub.status.idle": "2024-04-21T12:43:51.76033Z",
          "shell.execute_reply.started": "2024-04-21T12:43:51.753486Z",
          "shell.execute_reply": "2024-04-21T12:43:51.759175Z"
        },
        "trusted": true,
        "id": "0r2wqSmKF4Uh"
      },
      "outputs": [],
      "execution_count": null
    },
    {
      "cell_type": "code",
      "source": [
        "xtrain.head()"
      ],
      "metadata": {
        "execution": {
          "iopub.status.busy": "2024-04-21T12:43:51.76215Z",
          "iopub.execute_input": "2024-04-21T12:43:51.762638Z",
          "iopub.status.idle": "2024-04-21T12:43:51.786198Z",
          "shell.execute_reply.started": "2024-04-21T12:43:51.762593Z",
          "shell.execute_reply": "2024-04-21T12:43:51.785054Z"
        },
        "trusted": true,
        "id": "G-frGgISF4Ui"
      },
      "outputs": [],
      "execution_count": null
    },
    {
      "cell_type": "code",
      "source": [
        "# The textual column except CommentID and userID doesnt seems to be contributing much"
      ],
      "metadata": {
        "execution": {
          "iopub.status.busy": "2024-04-21T12:43:51.787598Z",
          "iopub.execute_input": "2024-04-21T12:43:51.788012Z",
          "iopub.status.idle": "2024-04-21T12:43:51.793075Z",
          "shell.execute_reply.started": "2024-04-21T12:43:51.787976Z",
          "shell.execute_reply": "2024-04-21T12:43:51.791906Z"
        },
        "trusted": true,
        "id": "q9IjNu8ZF4Ui"
      },
      "outputs": [],
      "execution_count": null
    },
    {
      "cell_type": "code",
      "source": [
        "xtrain = xtrain.drop(columns = ['RecipeName', 'CommentID', 'UserID', 'UserName', 'CreationTimestamp'])\n",
        "xtest = xtest.drop(columns = ['RecipeName', 'CommentID', 'UserID', 'UserName', 'CreationTimestamp'])"
      ],
      "metadata": {
        "execution": {
          "iopub.status.busy": "2024-04-21T12:43:51.794494Z",
          "iopub.execute_input": "2024-04-21T12:43:51.794895Z",
          "iopub.status.idle": "2024-04-21T12:43:51.809188Z",
          "shell.execute_reply.started": "2024-04-21T12:43:51.794854Z",
          "shell.execute_reply": "2024-04-21T12:43:51.807931Z"
        },
        "trusted": true,
        "id": "KdN7RvepF4Ui"
      },
      "outputs": [],
      "execution_count": null
    },
    {
      "cell_type": "code",
      "source": [
        "# RecipeName, RecipeCode, RecipeNumber seems to be redundant as they are all\n",
        "# a unique identifier for a specific dish"
      ],
      "metadata": {
        "execution": {
          "iopub.status.busy": "2024-04-21T12:43:51.810484Z",
          "iopub.execute_input": "2024-04-21T12:43:51.810858Z",
          "iopub.status.idle": "2024-04-21T12:43:51.825075Z",
          "shell.execute_reply.started": "2024-04-21T12:43:51.810801Z",
          "shell.execute_reply": "2024-04-21T12:43:51.823505Z"
        },
        "trusted": true,
        "id": "5Yr6Us3GF4Ui"
      },
      "outputs": [],
      "execution_count": null
    },
    {
      "cell_type": "code",
      "source": [
        "sns.pairplot(xtrain)"
      ],
      "metadata": {
        "execution": {
          "iopub.status.busy": "2024-04-21T12:43:51.826796Z",
          "iopub.execute_input": "2024-04-21T12:43:51.82737Z",
          "iopub.status.idle": "2024-04-21T12:44:15.113796Z",
          "shell.execute_reply.started": "2024-04-21T12:43:51.827322Z",
          "shell.execute_reply": "2024-04-21T12:44:15.112586Z"
        },
        "trusted": true,
        "id": "WdqGcPdVF4Uj"
      },
      "outputs": [],
      "execution_count": null
    },
    {
      "cell_type": "code",
      "source": [
        "# There is no two columns which have high correlation and data has very few outliers"
      ],
      "metadata": {
        "execution": {
          "iopub.status.busy": "2024-04-21T12:44:15.115375Z",
          "iopub.execute_input": "2024-04-21T12:44:15.115769Z",
          "iopub.status.idle": "2024-04-21T12:44:15.120907Z",
          "shell.execute_reply.started": "2024-04-21T12:44:15.115734Z",
          "shell.execute_reply": "2024-04-21T12:44:15.119896Z"
        },
        "trusted": true,
        "id": "OFZc7HprF4Uj"
      },
      "outputs": [],
      "execution_count": null
    },
    {
      "cell_type": "code",
      "source": [
        "\n",
        "xtrain_text = xtrain['Recipe_Review']\n",
        "xtrain_numerical = xtrain.drop(columns = ['Recipe_Review'])\n",
        "xtest_text = xtest['Recipe_Review']\n",
        "xtest_numerical = xtest.drop(columns = ['Recipe_Review'])"
      ],
      "metadata": {
        "execution": {
          "iopub.status.busy": "2024-04-21T12:44:15.122463Z",
          "iopub.execute_input": "2024-04-21T12:44:15.122909Z",
          "iopub.status.idle": "2024-04-21T12:44:15.134267Z",
          "shell.execute_reply.started": "2024-04-21T12:44:15.122873Z",
          "shell.execute_reply": "2024-04-21T12:44:15.132362Z"
        },
        "trusted": true,
        "id": "JGUus4r7F4Uj"
      },
      "outputs": [],
      "execution_count": null
    },
    {
      "cell_type": "code",
      "source": [
        "sns.heatmap(xtrain_numerical.corr(), annot=True)"
      ],
      "metadata": {
        "execution": {
          "iopub.status.busy": "2024-04-21T12:44:15.135651Z",
          "iopub.execute_input": "2024-04-21T12:44:15.13607Z",
          "iopub.status.idle": "2024-04-21T12:44:15.708338Z",
          "shell.execute_reply.started": "2024-04-21T12:44:15.136037Z",
          "shell.execute_reply": "2024-04-21T12:44:15.707249Z"
        },
        "trusted": true,
        "id": "uy37uwRqF4Uj"
      },
      "outputs": [],
      "execution_count": null
    },
    {
      "cell_type": "code",
      "source": [
        "# since thumbsupcount and thumbsdowncount has high positive correlation with BestScore, hence I am deleting those two"
      ],
      "metadata": {
        "execution": {
          "iopub.status.busy": "2024-04-21T12:44:15.709651Z",
          "iopub.execute_input": "2024-04-21T12:44:15.710058Z",
          "iopub.status.idle": "2024-04-21T12:44:15.714937Z",
          "shell.execute_reply.started": "2024-04-21T12:44:15.710021Z",
          "shell.execute_reply": "2024-04-21T12:44:15.71389Z"
        },
        "trusted": true,
        "id": "sEQIyiuCF4Uj"
      },
      "outputs": [],
      "execution_count": null
    },
    {
      "cell_type": "code",
      "source": [
        "xtrain_numerical = xtrain_numerical.drop(columns = ['ThumbsUpCount', 'ThumbsDownCount'])\n",
        "xtest_numerical = xtest_numerical.drop(columns = ['ThumbsUpCount', 'ThumbsDownCount'])"
      ],
      "metadata": {
        "execution": {
          "iopub.status.busy": "2024-04-21T12:44:15.716375Z",
          "iopub.execute_input": "2024-04-21T12:44:15.716782Z",
          "iopub.status.idle": "2024-04-21T12:44:15.725498Z",
          "shell.execute_reply.started": "2024-04-21T12:44:15.716744Z",
          "shell.execute_reply": "2024-04-21T12:44:15.724455Z"
        },
        "trusted": true,
        "id": "Fgh3z-YlF4Uj"
      },
      "outputs": [],
      "execution_count": null
    },
    {
      "cell_type": "code",
      "source": [
        "xtrain_numerical['RecipeNumber'].unique().shape"
      ],
      "metadata": {
        "execution": {
          "iopub.status.busy": "2024-04-21T12:44:15.72695Z",
          "iopub.execute_input": "2024-04-21T12:44:15.727728Z",
          "iopub.status.idle": "2024-04-21T12:44:15.739094Z",
          "shell.execute_reply.started": "2024-04-21T12:44:15.727685Z",
          "shell.execute_reply": "2024-04-21T12:44:15.737973Z"
        },
        "trusted": true,
        "id": "mV2r5a4zF4Uk"
      },
      "outputs": [],
      "execution_count": null
    },
    {
      "cell_type": "markdown",
      "source": [],
      "metadata": {
        "id": "q4lK_WszF4Uk"
      }
    },
    {
      "cell_type": "code",
      "source": [
        "xtrain_numerical['RecipeCode'].unique().shape\n"
      ],
      "metadata": {
        "execution": {
          "iopub.status.busy": "2024-04-21T12:44:15.74757Z",
          "iopub.execute_input": "2024-04-21T12:44:15.74799Z",
          "iopub.status.idle": "2024-04-21T12:44:15.754807Z",
          "shell.execute_reply.started": "2024-04-21T12:44:15.747956Z",
          "shell.execute_reply": "2024-04-21T12:44:15.753748Z"
        },
        "trusted": true,
        "id": "UT7t82HLF4Uk"
      },
      "outputs": [],
      "execution_count": null
    },
    {
      "cell_type": "code",
      "source": [
        "xtrain_numerical = xtrain_numerical.drop(columns = ['RecipeCode'])\n",
        "xtest_numerical = xtest_numerical.drop(columns = ['RecipeCode'])"
      ],
      "metadata": {
        "execution": {
          "iopub.status.busy": "2024-04-21T12:44:15.756116Z",
          "iopub.execute_input": "2024-04-21T12:44:15.756517Z",
          "iopub.status.idle": "2024-04-21T12:44:15.768155Z",
          "shell.execute_reply.started": "2024-04-21T12:44:15.756462Z",
          "shell.execute_reply": "2024-04-21T12:44:15.767086Z"
        },
        "trusted": true,
        "id": "y5S8xuPnF4Uk"
      },
      "outputs": [],
      "execution_count": null
    },
    {
      "cell_type": "code",
      "source": [
        "xtrain_text[3]"
      ],
      "metadata": {
        "execution": {
          "iopub.status.busy": "2024-04-21T12:44:15.769529Z",
          "iopub.execute_input": "2024-04-21T12:44:15.769981Z",
          "iopub.status.idle": "2024-04-21T12:44:15.782116Z",
          "shell.execute_reply.started": "2024-04-21T12:44:15.769941Z",
          "shell.execute_reply": "2024-04-21T12:44:15.780952Z"
        },
        "trusted": true,
        "id": "7buGMh8xF4Ul"
      },
      "outputs": [],
      "execution_count": null
    },
    {
      "cell_type": "code",
      "source": [
        "# converting to lower case\n",
        "xtrain_text = xtrain_text.str.lower()\n",
        "xtest_text = xtest_text.str.lower()"
      ],
      "metadata": {
        "execution": {
          "iopub.status.busy": "2024-04-21T12:44:15.783962Z",
          "iopub.execute_input": "2024-04-21T12:44:15.784304Z",
          "iopub.status.idle": "2024-04-21T12:44:15.803553Z",
          "shell.execute_reply.started": "2024-04-21T12:44:15.784274Z",
          "shell.execute_reply": "2024-04-21T12:44:15.802551Z"
        },
        "trusted": true,
        "id": "0nQteH_OF4Ul"
      },
      "outputs": [],
      "execution_count": null
    },
    {
      "cell_type": "code",
      "source": [
        "import regex"
      ],
      "metadata": {
        "execution": {
          "iopub.status.busy": "2024-04-21T12:44:15.805027Z",
          "iopub.execute_input": "2024-04-21T12:44:15.805425Z",
          "iopub.status.idle": "2024-04-21T12:44:15.834065Z",
          "shell.execute_reply.started": "2024-04-21T12:44:15.805386Z",
          "shell.execute_reply": "2024-04-21T12:44:15.833069Z"
        },
        "trusted": true,
        "id": "f7bZYuF0F4Um"
      },
      "outputs": [],
      "execution_count": null
    },
    {
      "cell_type": "code",
      "source": [
        "# Removing HTML entities\n",
        "xtrain_text = xtrain_text.apply(lambda text: regex.sub(r'&#[0-9]+;', '', text))\n",
        "xtest_text = xtest_text.apply(lambda text: regex.sub(r'&#[0-9]+;', '', text))"
      ],
      "metadata": {
        "execution": {
          "iopub.status.busy": "2024-04-21T12:44:15.83522Z",
          "iopub.execute_input": "2024-04-21T12:44:15.835553Z",
          "iopub.status.idle": "2024-04-21T12:44:15.977698Z",
          "shell.execute_reply.started": "2024-04-21T12:44:15.835524Z",
          "shell.execute_reply": "2024-04-21T12:44:15.976587Z"
        },
        "trusted": true,
        "id": "s9SbIaQYF4Um"
      },
      "outputs": [],
      "execution_count": null
    },
    {
      "cell_type": "code",
      "source": [
        "# Removing non-alphanumeric characters\n",
        "xtrain_text = xtrain_text.apply(lambda text: regex.sub(r'[^a-zA-Z0-9\\s]', '', text))\n",
        "xtest_text = xtest_text.apply(lambda text: regex.sub(r'[^a-zA-Z0-9\\s]', '', text))"
      ],
      "metadata": {
        "execution": {
          "iopub.status.busy": "2024-04-21T12:44:15.979201Z",
          "iopub.execute_input": "2024-04-21T12:44:15.979665Z",
          "iopub.status.idle": "2024-04-21T12:44:16.187754Z",
          "shell.execute_reply.started": "2024-04-21T12:44:15.979623Z",
          "shell.execute_reply": "2024-04-21T12:44:16.18629Z"
        },
        "trusted": true,
        "id": "c36pDf-tF4Um"
      },
      "outputs": [],
      "execution_count": null
    },
    {
      "cell_type": "code",
      "source": [
        "# Tokenization\n",
        "xtrain_text = xtrain_text.apply(lambda text: text.split())\n",
        "xtest_text = xtest_text.apply(lambda text: text.split())"
      ],
      "metadata": {
        "execution": {
          "iopub.status.busy": "2024-04-21T12:44:16.189138Z",
          "iopub.execute_input": "2024-04-21T12:44:16.189476Z",
          "iopub.status.idle": "2024-04-21T12:44:16.276386Z",
          "shell.execute_reply.started": "2024-04-21T12:44:16.189446Z",
          "shell.execute_reply": "2024-04-21T12:44:16.275374Z"
        },
        "trusted": true,
        "id": "_F5vebvBF4Un"
      },
      "outputs": [],
      "execution_count": null
    },
    {
      "cell_type": "code",
      "source": [
        "# Removing Stopwords\n",
        "from sklearn.feature_extraction.text import ENGLISH_STOP_WORDS\n",
        "xtrain_text = xtrain_text.apply(lambda tokens: [word for word in tokens if word not in ENGLISH_STOP_WORDS])\n",
        "xtest_text = xtest_text.apply(lambda tokens: [word for word in tokens if word not in ENGLISH_STOP_WORDS])"
      ],
      "metadata": {
        "execution": {
          "iopub.status.busy": "2024-04-21T12:44:16.277554Z",
          "iopub.execute_input": "2024-04-21T12:44:16.277883Z",
          "iopub.status.idle": "2024-04-21T12:44:16.385355Z",
          "shell.execute_reply.started": "2024-04-21T12:44:16.277852Z",
          "shell.execute_reply": "2024-04-21T12:44:16.383788Z"
        },
        "trusted": true,
        "id": "ZnwZ2qCnF4Un"
      },
      "outputs": [],
      "execution_count": null
    },
    {
      "cell_type": "code",
      "source": [
        "# Joining Tokens Back into Text\n",
        "xtrain_text = xtrain_text.apply(lambda tokens: ' '.join(tokens))\n",
        "xtest_text = xtest_text.apply(lambda tokens: ' '.join(tokens))"
      ],
      "metadata": {
        "execution": {
          "iopub.status.busy": "2024-04-21T12:44:16.387792Z",
          "iopub.execute_input": "2024-04-21T12:44:16.388415Z",
          "iopub.status.idle": "2024-04-21T12:44:16.434242Z",
          "shell.execute_reply.started": "2024-04-21T12:44:16.388356Z",
          "shell.execute_reply": "2024-04-21T12:44:16.432391Z"
        },
        "trusted": true,
        "id": "8L-E7mm2F4Un"
      },
      "outputs": [],
      "execution_count": null
    },
    {
      "cell_type": "code",
      "source": [
        "# Scaling Numerical Features\n",
        "from sklearn.preprocessing import MinMaxScaler\n",
        "scaler = MinMaxScaler()\n",
        "xtrain_numerical = scaler.fit_transform(xtrain_numerical)\n",
        "xtest_numerical = scaler.transform(xtest_numerical)"
      ],
      "metadata": {
        "execution": {
          "iopub.status.busy": "2024-04-21T12:44:16.435987Z",
          "iopub.execute_input": "2024-04-21T12:44:16.436415Z",
          "iopub.status.idle": "2024-04-21T12:44:16.452789Z",
          "shell.execute_reply.started": "2024-04-21T12:44:16.436375Z",
          "shell.execute_reply": "2024-04-21T12:44:16.451392Z"
        },
        "trusted": true,
        "id": "47vTGZMUF4Ut"
      },
      "outputs": [],
      "execution_count": null
    },
    {
      "cell_type": "code",
      "source": [
        "xtrain_numerical"
      ],
      "metadata": {
        "execution": {
          "iopub.status.busy": "2024-04-21T12:44:16.454068Z",
          "iopub.execute_input": "2024-04-21T12:44:16.454497Z",
          "iopub.status.idle": "2024-04-21T12:44:16.463951Z",
          "shell.execute_reply.started": "2024-04-21T12:44:16.454454Z",
          "shell.execute_reply": "2024-04-21T12:44:16.462631Z"
        },
        "trusted": true,
        "id": "B4jwn9TQF4Ut"
      },
      "outputs": [],
      "execution_count": null
    },
    {
      "cell_type": "code",
      "source": [
        "from sklearn.feature_extraction.text import TfidfVectorizer\n",
        "vectorizer = TfidfVectorizer()"
      ],
      "metadata": {
        "execution": {
          "iopub.status.busy": "2024-04-21T12:44:16.465608Z",
          "iopub.execute_input": "2024-04-21T12:44:16.466054Z",
          "iopub.status.idle": "2024-04-21T12:44:16.476804Z",
          "shell.execute_reply.started": "2024-04-21T12:44:16.466002Z",
          "shell.execute_reply": "2024-04-21T12:44:16.475192Z"
        },
        "trusted": true,
        "id": "v3gTfZiGF4Ut"
      },
      "outputs": [],
      "execution_count": null
    },
    {
      "cell_type": "code",
      "source": [
        "xtrain_vectorized = vectorizer.fit_transform(xtrain_text).toarray()\n",
        "xtest_vectorized = vectorizer.transform(xtest_text).toarray()"
      ],
      "metadata": {
        "execution": {
          "iopub.status.busy": "2024-04-21T12:44:16.478578Z",
          "iopub.execute_input": "2024-04-21T12:44:16.479094Z",
          "iopub.status.idle": "2024-04-21T12:44:17.756063Z",
          "shell.execute_reply.started": "2024-04-21T12:44:16.479047Z",
          "shell.execute_reply": "2024-04-21T12:44:17.754641Z"
        },
        "trusted": true,
        "id": "6DchSJupF4Ut"
      },
      "outputs": [],
      "execution_count": null
    },
    {
      "cell_type": "code",
      "source": [
        "xtest_numerical.shape, xtest_vectorized.shape"
      ],
      "metadata": {
        "execution": {
          "iopub.status.busy": "2024-04-21T12:44:17.757999Z",
          "iopub.execute_input": "2024-04-21T12:44:17.758525Z",
          "iopub.status.idle": "2024-04-21T12:44:17.767519Z",
          "shell.execute_reply.started": "2024-04-21T12:44:17.758461Z",
          "shell.execute_reply": "2024-04-21T12:44:17.76615Z"
        },
        "trusted": true,
        "id": "_4XkQySMF4Ut"
      },
      "outputs": [],
      "execution_count": null
    },
    {
      "cell_type": "code",
      "source": [
        "xtrain_com = np.hstack([xtrain_numerical, xtrain_vectorized])\n",
        "xtest_com = np.hstack([xtest_numerical, xtest_vectorized])"
      ],
      "metadata": {
        "execution": {
          "iopub.status.busy": "2024-04-21T12:44:17.769081Z",
          "iopub.execute_input": "2024-04-21T12:44:17.769503Z",
          "iopub.status.idle": "2024-04-21T12:44:18.801232Z",
          "shell.execute_reply.started": "2024-04-21T12:44:17.769456Z",
          "shell.execute_reply": "2024-04-21T12:44:18.799854Z"
        },
        "trusted": true,
        "id": "5tLWU5qGF4Uu"
      },
      "outputs": [],
      "execution_count": null
    },
    {
      "cell_type": "markdown",
      "source": [
        "## Feature Engineering"
      ],
      "metadata": {
        "id": "PWF9n5v2F4Uu"
      }
    },
    {
      "cell_type": "code",
      "source": [
        "#Since the new dataset after vectorizing has too many new columns which will\n",
        "#cost me a lot of computing time while hypertuning to find suitable models\n",
        "#hence i going through a feature selection process to save time and try different models"
      ],
      "metadata": {
        "execution": {
          "iopub.status.busy": "2024-04-21T12:44:18.803019Z",
          "iopub.execute_input": "2024-04-21T12:44:18.803512Z",
          "iopub.status.idle": "2024-04-21T12:44:18.809338Z",
          "shell.execute_reply.started": "2024-04-21T12:44:18.803471Z",
          "shell.execute_reply": "2024-04-21T12:44:18.807924Z"
        },
        "trusted": true,
        "id": "CSuBEVduF4Uu"
      },
      "outputs": [],
      "execution_count": null
    },
    {
      "cell_type": "code",
      "source": [
        "from sklearn.ensemble import RandomForestClassifier\n",
        "from sklearn.feature_selection import SelectFromModel"
      ],
      "metadata": {
        "execution": {
          "iopub.status.busy": "2024-04-21T12:44:18.811693Z",
          "iopub.execute_input": "2024-04-21T12:44:18.812333Z",
          "iopub.status.idle": "2024-04-21T12:44:18.823209Z",
          "shell.execute_reply.started": "2024-04-21T12:44:18.812277Z",
          "shell.execute_reply": "2024-04-21T12:44:18.821756Z"
        },
        "trusted": true,
        "id": "AgQVmy_aF4Uu"
      },
      "outputs": [],
      "execution_count": null
    },
    {
      "cell_type": "code",
      "source": [
        "rf_classifier = RandomForestClassifier()\n",
        "selector = SelectFromModel(rf_classifier, threshold='mean')\n",
        "xtrain_selected = selector.fit_transform(xtrain_vectorized, ytrain)\n",
        "xtest_selected = selector.transform(xtest_vectorized)"
      ],
      "metadata": {
        "execution": {
          "iopub.status.busy": "2024-04-21T12:44:18.825097Z",
          "iopub.execute_input": "2024-04-21T12:44:18.825927Z",
          "iopub.status.idle": "2024-04-21T12:46:03.82608Z",
          "shell.execute_reply.started": "2024-04-21T12:44:18.825877Z",
          "shell.execute_reply": "2024-04-21T12:46:03.825098Z"
        },
        "trusted": true,
        "id": "LvBrkzxKF4Uu"
      },
      "outputs": [],
      "execution_count": null
    },
    {
      "cell_type": "code",
      "source": [
        "xtrain_selected.shape"
      ],
      "metadata": {
        "execution": {
          "iopub.status.busy": "2024-04-21T12:46:03.827537Z",
          "iopub.execute_input": "2024-04-21T12:46:03.82799Z",
          "iopub.status.idle": "2024-04-21T12:46:03.835699Z",
          "shell.execute_reply.started": "2024-04-21T12:46:03.82795Z",
          "shell.execute_reply": "2024-04-21T12:46:03.834558Z"
        },
        "trusted": true,
        "id": "87RzayN-F4Uu"
      },
      "outputs": [],
      "execution_count": null
    },
    {
      "cell_type": "markdown",
      "source": [
        "## Model Building"
      ],
      "metadata": {
        "id": "nNb4RlNaF4Uv"
      }
    },
    {
      "cell_type": "code",
      "source": [
        "from sklearn.naive_bayes import MultinomialNB, GaussianNB, BernoulliNB\n",
        "from sklearn.ensemble import RandomForestClassifier\n",
        "from sklearn.ensemble import GradientBoostingClassifier\n",
        "from sklearn.metrics import accuracy_score, classification_report\n",
        "from sklearn.linear_model import LogisticRegression\n",
        "from sklearn.svm import SVC"
      ],
      "metadata": {
        "execution": {
          "iopub.status.busy": "2024-04-21T12:46:03.837076Z",
          "iopub.execute_input": "2024-04-21T12:46:03.837488Z",
          "iopub.status.idle": "2024-04-21T12:46:03.849461Z",
          "shell.execute_reply.started": "2024-04-21T12:46:03.837455Z",
          "shell.execute_reply": "2024-04-21T12:46:03.848401Z"
        },
        "trusted": true,
        "id": "AyXbsU5AF4Uv"
      },
      "outputs": [],
      "execution_count": null
    },
    {
      "cell_type": "code",
      "source": [
        "mb = MultinomialNB()\n",
        "rf = RandomForestClassifier()\n",
        "gb = GradientBoostingClassifier()\n",
        "lr = LogisticRegression()\n",
        "svc = SVC(kernel='linear', C=1.0)"
      ],
      "metadata": {
        "execution": {
          "iopub.status.busy": "2024-04-21T12:46:03.851079Z",
          "iopub.execute_input": "2024-04-21T12:46:03.852025Z",
          "iopub.status.idle": "2024-04-21T12:46:03.862291Z",
          "shell.execute_reply.started": "2024-04-21T12:46:03.851981Z",
          "shell.execute_reply": "2024-04-21T12:46:03.861096Z"
        },
        "trusted": true,
        "id": "JgtMvMdsF4Uv"
      },
      "outputs": [],
      "execution_count": null
    },
    {
      "cell_type": "code",
      "source": [
        "#  lr.fit(xtrain_selected, ytrain)"
      ],
      "metadata": {
        "execution": {
          "iopub.status.busy": "2024-04-21T12:46:03.863655Z",
          "iopub.execute_input": "2024-04-21T12:46:03.864022Z",
          "iopub.status.idle": "2024-04-21T12:46:03.873756Z",
          "shell.execute_reply.started": "2024-04-21T12:46:03.863991Z",
          "shell.execute_reply": "2024-04-21T12:46:03.872662Z"
        },
        "trusted": true,
        "id": "yuQ7EpX6F4Uw"
      },
      "outputs": [],
      "execution_count": null
    },
    {
      "cell_type": "code",
      "source": [
        "#y_pred = lr.predict(xtest_selected)"
      ],
      "metadata": {
        "execution": {
          "iopub.status.busy": "2024-04-21T12:46:03.875112Z",
          "iopub.execute_input": "2024-04-21T12:46:03.875467Z",
          "iopub.status.idle": "2024-04-21T12:46:03.884324Z",
          "shell.execute_reply.started": "2024-04-21T12:46:03.875436Z",
          "shell.execute_reply": "2024-04-21T12:46:03.883038Z"
        },
        "trusted": true,
        "id": "fCr2AkiMF4Uw"
      },
      "outputs": [],
      "execution_count": null
    },
    {
      "cell_type": "code",
      "source": [
        "#accuracy_score(ytest, y_pred)"
      ],
      "metadata": {
        "execution": {
          "iopub.status.busy": "2024-04-21T12:46:03.885956Z",
          "iopub.execute_input": "2024-04-21T12:46:03.886382Z",
          "iopub.status.idle": "2024-04-21T12:46:03.894332Z",
          "shell.execute_reply.started": "2024-04-21T12:46:03.886342Z",
          "shell.execute_reply": "2024-04-21T12:46:03.893165Z"
        },
        "trusted": true,
        "id": "nba_USVLF4Uw"
      },
      "outputs": [],
      "execution_count": null
    },
    {
      "cell_type": "markdown",
      "source": [
        "<em><strong>Accuracy score for different model with their default parameters</strong></em><br>\n",
        "MultinomialNB Score= 0.7554985337243402 <br>\n",
        "RandomForestClassifier Score = 0.7642961876832844 <br>\n",
        "GradianBoostingClassifier = 0.7591642228739003 <br>\n",
        "LogisticRegression = 0.7639296187683284 <br>\n",
        "LogisticRegression after feature selection = 0.7650293255131965"
      ],
      "metadata": {
        "id": "Blm0g9v5F4Ux"
      }
    },
    {
      "cell_type": "markdown",
      "source": [
        "## Model 1 : Using RandomForestClassifier"
      ],
      "metadata": {
        "id": "py0u6WaeF4Ux"
      }
    },
    {
      "cell_type": "code",
      "source": [
        "rf.fit(xtrain_selected, ytrain)"
      ],
      "metadata": {
        "execution": {
          "iopub.status.busy": "2024-04-21T12:46:03.896557Z",
          "iopub.execute_input": "2024-04-21T12:46:03.897156Z",
          "iopub.status.idle": "2024-04-21T12:46:30.726351Z",
          "shell.execute_reply.started": "2024-04-21T12:46:03.897112Z",
          "shell.execute_reply": "2024-04-21T12:46:30.725267Z"
        },
        "trusted": true,
        "id": "VPMKl_UoF4Ux"
      },
      "outputs": [],
      "execution_count": null
    },
    {
      "cell_type": "code",
      "source": [
        "rf.score(xtest_selected, ytest)"
      ],
      "metadata": {
        "execution": {
          "iopub.status.busy": "2024-04-21T12:46:30.72799Z",
          "iopub.execute_input": "2024-04-21T12:46:30.72835Z",
          "iopub.status.idle": "2024-04-21T12:46:31.043029Z",
          "shell.execute_reply.started": "2024-04-21T12:46:30.72832Z",
          "shell.execute_reply": "2024-04-21T12:46:31.042001Z"
        },
        "trusted": true,
        "id": "EF80KwN9F4Uy"
      },
      "outputs": [],
      "execution_count": null
    },
    {
      "cell_type": "code",
      "source": [
        "n_estimators_values = [90,100, 120, 130]\n",
        "max_depth_values = [None]\n",
        "min_samples_split_values = [2, 5, 10, 15]\n",
        "min_samples_leaf_values = [1, 2, 4]"
      ],
      "metadata": {
        "execution": {
          "iopub.status.busy": "2024-04-21T12:46:31.04454Z",
          "iopub.execute_input": "2024-04-21T12:46:31.045025Z",
          "iopub.status.idle": "2024-04-21T12:46:31.051083Z",
          "shell.execute_reply.started": "2024-04-21T12:46:31.044984Z",
          "shell.execute_reply": "2024-04-21T12:46:31.049893Z"
        },
        "trusted": true,
        "id": "EJJ6QqhvF4Uy"
      },
      "outputs": [],
      "execution_count": null
    },
    {
      "cell_type": "code",
      "source": [
        "# for i in n_estimators_values:\n",
        "#     for j in max_depth_values:\n",
        "#         for k in min_samples_split_values:\n",
        "#             for p in min_samples_leaf_values:\n",
        "#                 rf_model = RandomForestClassifier(n_estimators=i, max_depth=j, min_samples_split=k, min_samples_leaf=p)\n",
        "#                 rf_model.fit(xtrain_selected, ytrain)\n",
        "#                 y_pred = rf_model.predict(xtest_selected)\n",
        "#                 accuracy = accuracy_score(ytest, y_pred)\n",
        "#                 print(\"Accuracy for n_estimator =\",i,\"and max_depth =\",j,\"and min_samples_split\",k,\"and leaf=\",p,\"is\",accuracy)"
      ],
      "metadata": {
        "execution": {
          "iopub.status.busy": "2024-04-21T12:46:31.052285Z",
          "iopub.execute_input": "2024-04-21T12:46:31.052609Z",
          "iopub.status.idle": "2024-04-21T12:46:31.063558Z",
          "shell.execute_reply.started": "2024-04-21T12:46:31.052582Z",
          "shell.execute_reply": "2024-04-21T12:46:31.062428Z"
        },
        "trusted": true,
        "id": "IM793tXDF4Uy"
      },
      "outputs": [],
      "execution_count": null
    },
    {
      "cell_type": "code",
      "source": [
        "from sklearn.model_selection import cross_val_score\n",
        "\n",
        "# Define your XGBoost model with the chosen hyperparameters\n",
        "rf_model = RandomForestClassifier(n_estimators=100, max_depth=None, min_samples_split=10, min_samples_leaf=1)\n",
        "\n",
        "# Perform cross-validation\n",
        "cv_scores = cross_val_score(rf_model, xtrain_selected, ytrain, cv=5, scoring='accuracy')\n",
        "\n",
        "# # Print the cross-validation scores\n",
        "# print(\"Cross-validation scores:\", cv_scores)\n",
        "\n",
        "# # Calculate and print the mean and standard deviation of the cross-validation scores\n",
        "# print(\"Mean CV score:\", np.mean(cv_scores))\n",
        "# print(\"Standard deviation of CV scores:\", np.std(cv_scores))"
      ],
      "metadata": {
        "execution": {
          "iopub.status.busy": "2024-04-21T12:46:31.064873Z",
          "iopub.execute_input": "2024-04-21T12:46:31.065214Z",
          "iopub.status.idle": "2024-04-21T12:48:37.815913Z",
          "shell.execute_reply.started": "2024-04-21T12:46:31.065185Z",
          "shell.execute_reply": "2024-04-21T12:48:37.814835Z"
        },
        "trusted": true,
        "id": "BJkw6jqvF4Uy"
      },
      "outputs": [],
      "execution_count": null
    },
    {
      "cell_type": "code",
      "source": [
        "rf_model = RandomForestClassifier(n_estimators=100, max_depth=None, min_samples_split=10, min_samples_leaf=1)"
      ],
      "metadata": {
        "execution": {
          "iopub.status.busy": "2024-04-21T12:48:37.817648Z",
          "iopub.execute_input": "2024-04-21T12:48:37.818009Z",
          "iopub.status.idle": "2024-04-21T12:48:37.822661Z",
          "shell.execute_reply.started": "2024-04-21T12:48:37.81798Z",
          "shell.execute_reply": "2024-04-21T12:48:37.821542Z"
        },
        "trusted": true,
        "id": "Gi0oux_gF4Uy"
      },
      "outputs": [],
      "execution_count": null
    },
    {
      "cell_type": "code",
      "source": [
        "# rf_model.fit(xtrain_selected, ytrain)"
      ],
      "metadata": {
        "execution": {
          "iopub.status.busy": "2024-04-21T12:48:37.824455Z",
          "iopub.execute_input": "2024-04-21T12:48:37.824801Z",
          "iopub.status.idle": "2024-04-21T12:48:37.839454Z",
          "shell.execute_reply.started": "2024-04-21T12:48:37.824765Z",
          "shell.execute_reply": "2024-04-21T12:48:37.838468Z"
        },
        "trusted": true,
        "id": "kLdeHpO9F4Uz"
      },
      "outputs": [],
      "execution_count": null
    },
    {
      "cell_type": "code",
      "source": [
        "rf_param_dist = {\n",
        "    'n_estimators': [50, 100, 150, 200],  # Number of trees in the forest\n",
        "    'max_depth': [None, 10, 20, 50, 60],      # Maximum depth of the tree\n",
        "    'min_samples_split': [2, 5, 10,20],  # Minimum number of samples required to split an internal node\n",
        "    'min_samples_leaf': [1, 2, 4],    # Minimum number of samples required to be at a leaf node\n",
        "}\n"
      ],
      "metadata": {
        "execution": {
          "iopub.status.busy": "2024-04-21T12:48:37.8409Z",
          "iopub.execute_input": "2024-04-21T12:48:37.841256Z",
          "iopub.status.idle": "2024-04-21T12:48:37.851773Z",
          "shell.execute_reply.started": "2024-04-21T12:48:37.841225Z",
          "shell.execute_reply": "2024-04-21T12:48:37.850692Z"
        },
        "trusted": true,
        "id": "AaWrgQl0F4Uz"
      },
      "outputs": [],
      "execution_count": null
    },
    {
      "cell_type": "code",
      "source": [
        "rf_random_search = RandomizedSearchCV(\n",
        "    rf, param_distributions=rf_param_dist, cv=5,\n",
        "    scoring='accuracy', verbose=1, n_iter = 20\n",
        ")"
      ],
      "metadata": {
        "execution": {
          "iopub.status.busy": "2024-04-21T12:48:37.853186Z",
          "iopub.execute_input": "2024-04-21T12:48:37.853583Z",
          "iopub.status.idle": "2024-04-21T12:48:37.862221Z",
          "shell.execute_reply.started": "2024-04-21T12:48:37.853549Z",
          "shell.execute_reply": "2024-04-21T12:48:37.861128Z"
        },
        "trusted": true,
        "id": "HvCFHXpNF4Uz"
      },
      "outputs": [],
      "execution_count": null
    },
    {
      "cell_type": "code",
      "source": [
        "#rf_random_search.fit(xtrain_vectorized, ytrain)"
      ],
      "metadata": {
        "execution": {
          "iopub.status.busy": "2024-04-21T12:48:37.863487Z",
          "iopub.execute_input": "2024-04-21T12:48:37.86386Z",
          "iopub.status.idle": "2024-04-21T12:48:37.875191Z",
          "shell.execute_reply.started": "2024-04-21T12:48:37.863803Z",
          "shell.execute_reply": "2024-04-21T12:48:37.874131Z"
        },
        "trusted": true,
        "id": "-IY0M27HF4U0"
      },
      "outputs": [],
      "execution_count": null
    },
    {
      "cell_type": "code",
      "source": [
        "#rf_random_search.best_params_"
      ],
      "metadata": {
        "execution": {
          "iopub.status.busy": "2024-04-21T12:48:37.876639Z",
          "iopub.execute_input": "2024-04-21T12:48:37.877036Z",
          "iopub.status.idle": "2024-04-21T12:48:37.886197Z",
          "shell.execute_reply.started": "2024-04-21T12:48:37.876994Z",
          "shell.execute_reply": "2024-04-21T12:48:37.885088Z"
        },
        "trusted": true,
        "id": "HFnbnsM_F4U0"
      },
      "outputs": [],
      "execution_count": null
    },
    {
      "cell_type": "markdown",
      "source": [
        "<em><strong> Different Random Search best parameters for RandomForestClassifier<strong><em>\n",
        "\n",
        "{'n_estimators': 100,\n",
        " 'min_samples_split': 10,\n",
        " 'min_samples_leaf': 1,\n",
        " 'max_depth': None,\n",
        " 0.7650293255131965\n",
        "\n",
        " {'n_estimators': 200,\n",
        " 'min_samples_split': 5,\n",
        " 'min_samples_leaf': 2,\n",
        " 'max_depth': None}\n",
        " 0.7573313782991202\n",
        "    \n",
        "{'n_estimators': 50,\n",
        " 'min_samples_split': 2,\n",
        " 'min_samples_leaf': 2,\n",
        " 'max_depth': None}\n",
        "  0.7591642228739003\n",
        "    \n",
        "{'n_estimators': 50,\n",
        " 'min_samples_split': 5,\n",
        " 'min_samples_leaf': 1,\n",
        " 'max_depth': None}\n",
        "0.7624633431085044\n",
        "    \n",
        "{'n_estimators': 100,\n",
        " 'min_samples_split': 20,\n",
        " 'min_samples_leaf': 1,\n",
        " 'max_depth': 60}\n",
        "0.7554985337243402"
      ],
      "metadata": {
        "id": "I2Xq48XmF4U0"
      }
    },
    {
      "cell_type": "code",
      "source": [
        "#best_rf_model = rf_random_search.best_estimator_"
      ],
      "metadata": {
        "execution": {
          "iopub.status.busy": "2024-04-21T12:48:37.887621Z",
          "iopub.execute_input": "2024-04-21T12:48:37.888022Z",
          "iopub.status.idle": "2024-04-21T12:48:37.897185Z",
          "shell.execute_reply.started": "2024-04-21T12:48:37.887979Z",
          "shell.execute_reply": "2024-04-21T12:48:37.895766Z"
        },
        "trusted": true,
        "id": "LSNrv6CAF4U1"
      },
      "outputs": [],
      "execution_count": null
    },
    {
      "cell_type": "code",
      "source": [
        "#best_rf_model.fit(xtrain_vectorized, ytrain)"
      ],
      "metadata": {
        "execution": {
          "iopub.status.busy": "2024-04-21T12:48:37.898685Z",
          "iopub.execute_input": "2024-04-21T12:48:37.899124Z",
          "iopub.status.idle": "2024-04-21T12:48:37.908037Z",
          "shell.execute_reply.started": "2024-04-21T12:48:37.89909Z",
          "shell.execute_reply": "2024-04-21T12:48:37.906907Z"
        },
        "trusted": true,
        "id": "yZbnWUoNF4U1"
      },
      "outputs": [],
      "execution_count": null
    },
    {
      "cell_type": "code",
      "source": [
        "#best_rf_model.score(xtest_vectorized, ytest)"
      ],
      "metadata": {
        "execution": {
          "iopub.status.busy": "2024-04-21T12:48:37.909949Z",
          "iopub.execute_input": "2024-04-21T12:48:37.910472Z",
          "iopub.status.idle": "2024-04-21T12:48:37.920352Z",
          "shell.execute_reply.started": "2024-04-21T12:48:37.910428Z",
          "shell.execute_reply": "2024-04-21T12:48:37.919163Z"
        },
        "trusted": true,
        "id": "Pt-wrQjvF4U1"
      },
      "outputs": [],
      "execution_count": null
    },
    {
      "cell_type": "code",
      "source": [
        "# After analysing several random search model"
      ],
      "metadata": {
        "execution": {
          "iopub.status.busy": "2024-04-21T12:48:37.922077Z",
          "iopub.execute_input": "2024-04-21T12:48:37.922463Z",
          "iopub.status.idle": "2024-04-21T12:48:37.932075Z",
          "shell.execute_reply.started": "2024-04-21T12:48:37.922429Z",
          "shell.execute_reply": "2024-04-21T12:48:37.930901Z"
        },
        "trusted": true,
        "id": "5wMmLXflF4U1"
      },
      "outputs": [],
      "execution_count": null
    },
    {
      "cell_type": "code",
      "source": [
        "#final_rf = RandomForestClassifier(n_estimators=100, min_samples_split=10, min_samples_leaf=1, max_depth = None)"
      ],
      "metadata": {
        "execution": {
          "iopub.status.busy": "2024-04-21T12:48:37.933804Z",
          "iopub.execute_input": "2024-04-21T12:48:37.93425Z",
          "iopub.status.idle": "2024-04-21T12:48:37.944006Z",
          "shell.execute_reply.started": "2024-04-21T12:48:37.934216Z",
          "shell.execute_reply": "2024-04-21T12:48:37.942646Z"
        },
        "trusted": true,
        "id": "pVvDBu2dF4U2"
      },
      "outputs": [],
      "execution_count": null
    },
    {
      "cell_type": "code",
      "source": [
        "#final_rf.fit(xtrain_vectorized, ytrain)"
      ],
      "metadata": {
        "execution": {
          "iopub.status.busy": "2024-04-21T12:48:37.94542Z",
          "iopub.execute_input": "2024-04-21T12:48:37.945849Z",
          "iopub.status.idle": "2024-04-21T12:48:37.956911Z",
          "shell.execute_reply.started": "2024-04-21T12:48:37.945796Z",
          "shell.execute_reply": "2024-04-21T12:48:37.955684Z"
        },
        "trusted": true,
        "id": "YUmldYUWF4U2"
      },
      "outputs": [],
      "execution_count": null
    },
    {
      "cell_type": "code",
      "source": [
        "#final_rf.score(xtest_vectorized, ytest)"
      ],
      "metadata": {
        "execution": {
          "iopub.status.busy": "2024-04-21T12:48:37.958306Z",
          "iopub.execute_input": "2024-04-21T12:48:37.958664Z",
          "iopub.status.idle": "2024-04-21T12:48:37.969188Z",
          "shell.execute_reply.started": "2024-04-21T12:48:37.958627Z",
          "shell.execute_reply": "2024-04-21T12:48:37.967937Z"
        },
        "trusted": true,
        "id": "x8-gZ5P9F4U2"
      },
      "outputs": [],
      "execution_count": null
    },
    {
      "cell_type": "markdown",
      "source": [
        "## Model 2 : Using LogisticRegression"
      ],
      "metadata": {
        "id": "j0FN0CK1F4U3"
      }
    },
    {
      "cell_type": "code",
      "source": [
        "from scipy.stats import loguniform"
      ],
      "metadata": {
        "execution": {
          "iopub.status.busy": "2024-04-21T12:48:37.970991Z",
          "iopub.execute_input": "2024-04-21T12:48:37.971435Z",
          "iopub.status.idle": "2024-04-21T12:48:37.982764Z",
          "shell.execute_reply.started": "2024-04-21T12:48:37.971393Z",
          "shell.execute_reply": "2024-04-21T12:48:37.981165Z"
        },
        "trusted": true,
        "id": "Y-Sd3SjTF4U4"
      },
      "outputs": [],
      "execution_count": null
    },
    {
      "cell_type": "code",
      "source": [
        "lr_param_dist = {\n",
        "    'C': [0.001, 0.01, 0.1, 1, 1.3, 1.5, 2],  # Regularization parameter\n",
        "    'penalty': ['l1', 'l2'],       # Regularization penalty\n",
        "    'solver': ['lbfgs', 'saga', 'sag'], # Optimization algorithm\n",
        "    'max_iter': [2000], # Maximum number of iterations\n",
        "    'class_weight': [None, 'balanced'],  # Weighting of classes\n",
        "    'tol': [1e-3, 1e-4, 1e-5],  # Tolerance for stopping criteria\n",
        "    'fit_intercept': [True, False]\n",
        "}"
      ],
      "metadata": {
        "execution": {
          "iopub.status.busy": "2024-04-21T12:48:37.984297Z",
          "iopub.execute_input": "2024-04-21T12:48:37.984849Z",
          "iopub.status.idle": "2024-04-21T12:48:37.99691Z",
          "shell.execute_reply.started": "2024-04-21T12:48:37.984774Z",
          "shell.execute_reply": "2024-04-21T12:48:37.995748Z"
        },
        "trusted": true,
        "id": "qB6SAjd8F4U4"
      },
      "outputs": [],
      "execution_count": null
    },
    {
      "cell_type": "code",
      "source": [
        "lr_random_search = RandomizedSearchCV(\n",
        "    estimator=lr,\n",
        "    param_distributions=lr_param_dist,\n",
        "    n_iter=50,  # Number of parameter settings that are sampled\n",
        "    scoring='accuracy',\n",
        "    cv=2,  # Cross-validation folds\n",
        "    verbose=2,\n",
        "    random_state=42,\n",
        "    n_jobs = -1\n",
        ")"
      ],
      "metadata": {
        "execution": {
          "iopub.status.busy": "2024-04-21T12:48:38.011197Z",
          "iopub.execute_input": "2024-04-21T12:48:38.012029Z",
          "iopub.status.idle": "2024-04-21T12:48:38.01732Z",
          "shell.execute_reply.started": "2024-04-21T12:48:38.01199Z",
          "shell.execute_reply": "2024-04-21T12:48:38.016185Z"
        },
        "trusted": true,
        "id": "ssZUboK_F4U4"
      },
      "outputs": [],
      "execution_count": null
    },
    {
      "cell_type": "code",
      "source": [
        "#lr_random_search.fit(xtrain_selected, ytrain)"
      ],
      "metadata": {
        "execution": {
          "iopub.status.busy": "2024-04-21T12:48:38.018843Z",
          "iopub.execute_input": "2024-04-21T12:48:38.019276Z",
          "iopub.status.idle": "2024-04-21T12:48:38.029403Z",
          "shell.execute_reply.started": "2024-04-21T12:48:38.019235Z",
          "shell.execute_reply": "2024-04-21T12:48:38.028151Z"
        },
        "trusted": true,
        "id": "kb8zdfBuF4U4"
      },
      "outputs": [],
      "execution_count": null
    },
    {
      "cell_type": "code",
      "source": [
        "# for c in [0.1, 0.2, 0.3, 0.4, 0.5, 0.6, 0.7, 0.8, 0.9, 1.0]:\n",
        "#     lr = LogisticRegression(C=c, max_iter=1500)\n",
        "#     lr.fit(xtrain_selected, ytrain)\n",
        "#     score = lr.score(xtest_selected, ytest)\n",
        "#     print(\"Accuracy for C = \", c, \"is\", score)"
      ],
      "metadata": {
        "execution": {
          "iopub.status.busy": "2024-04-21T12:48:38.031205Z",
          "iopub.execute_input": "2024-04-21T12:48:38.031631Z",
          "iopub.status.idle": "2024-04-21T12:48:38.042466Z",
          "shell.execute_reply.started": "2024-04-21T12:48:38.031594Z",
          "shell.execute_reply": "2024-04-21T12:48:38.04077Z"
        },
        "trusted": true,
        "id": "0t84XWQJF4U4"
      },
      "outputs": [],
      "execution_count": null
    },
    {
      "cell_type": "code",
      "source": [
        "# for c in [1.0, 1.1, 1.2, 1.3, 1.4, 1.5, 1.6, 1.7, 1.8, 1.9, 2.0]:\n",
        "#     lr = LogisticRegression(C=c, max_iter=1500)\n",
        "#     lr.fit(xtrain_selected, ytrain)\n",
        "#     score = lr.score(xtest_selected, ytest)\n",
        "#     print(\"Accuracy for C = \", c, \"is\", score)"
      ],
      "metadata": {
        "execution": {
          "iopub.status.busy": "2024-04-21T12:48:38.044183Z",
          "iopub.execute_input": "2024-04-21T12:48:38.044604Z",
          "iopub.status.idle": "2024-04-21T12:48:38.059516Z",
          "shell.execute_reply.started": "2024-04-21T12:48:38.044551Z",
          "shell.execute_reply": "2024-04-21T12:48:38.057908Z"
        },
        "trusted": true,
        "id": "9tpAOsOgF4U5"
      },
      "outputs": [],
      "execution_count": null
    },
    {
      "cell_type": "code",
      "source": [
        "# for c in [1.3,1.31, 1.32, 1.33, 1.34, 1.35, 1.36, 1.37, 1.38, 1.39, 1.4]:\n",
        "#     lr = LogisticRegression(C=c, max_iter=1500)\n",
        "#     lr.fit(xtrain_selected, ytrain)\n",
        "#     score = lr.score(xtest_selected, ytest)\n",
        "#     print(\"Accuracy for C = \", c, \"is\", score)"
      ],
      "metadata": {
        "execution": {
          "iopub.status.busy": "2024-04-21T12:48:38.06112Z",
          "iopub.execute_input": "2024-04-21T12:48:38.061578Z",
          "iopub.status.idle": "2024-04-21T12:48:38.073387Z",
          "shell.execute_reply.started": "2024-04-21T12:48:38.061533Z",
          "shell.execute_reply": "2024-04-21T12:48:38.071732Z"
        },
        "trusted": true,
        "id": "NxEp7uAaF4U5"
      },
      "outputs": [],
      "execution_count": null
    },
    {
      "cell_type": "code",
      "source": [
        "# for solver in ['sag', 'saga', 'lbfgs']:\n",
        "#     lr = LogisticRegression(C=1.32, max_iter=3000, solver = solver)\n",
        "#     lr.fit(xtrain_selected, ytrain)\n",
        "#     score = lr.score(xtest_selected, ytest)\n",
        "#     print(\"Accuracy for Solver = \", solver, \"is\", score)"
      ],
      "metadata": {
        "execution": {
          "iopub.status.busy": "2024-04-21T12:48:38.075434Z",
          "iopub.execute_input": "2024-04-21T12:48:38.076589Z",
          "iopub.status.idle": "2024-04-21T12:48:38.086165Z",
          "shell.execute_reply.started": "2024-04-21T12:48:38.076539Z",
          "shell.execute_reply": "2024-04-21T12:48:38.084924Z"
        },
        "trusted": true,
        "id": "AjHrGks1F4U5"
      },
      "outputs": [],
      "execution_count": null
    },
    {
      "cell_type": "code",
      "source": [
        "from sklearn.ensemble import BaggingClassifier"
      ],
      "metadata": {
        "execution": {
          "iopub.status.busy": "2024-04-21T12:48:38.087817Z",
          "iopub.execute_input": "2024-04-21T12:48:38.088255Z",
          "iopub.status.idle": "2024-04-21T12:48:38.100104Z",
          "shell.execute_reply.started": "2024-04-21T12:48:38.088211Z",
          "shell.execute_reply": "2024-04-21T12:48:38.09885Z"
        },
        "trusted": true,
        "id": "4zC9R8QzF4U6"
      },
      "outputs": [],
      "execution_count": null
    },
    {
      "cell_type": "code",
      "source": [
        "# base_estimator = LogisticRegression(C=1.32, max_iter=1500)\n",
        "# for c in [10, 20, 30, 40, 50]:\n",
        "#     bagging_classifier = BaggingClassifier(estimator=base_estimator, n_estimators=c, random_state=42)\n",
        "#     bagging_classifier.fit(xtrain_selected, ytrain)\n",
        "#     score = bagging_classifier.score(xtest_selected, ytest)\n",
        "#     print(\"Accuracy:\", score)"
      ],
      "metadata": {
        "execution": {
          "iopub.status.busy": "2024-04-21T12:48:38.102881Z",
          "iopub.execute_input": "2024-04-21T12:48:38.104204Z",
          "iopub.status.idle": "2024-04-21T12:48:38.112997Z",
          "shell.execute_reply.started": "2024-04-21T12:48:38.104149Z",
          "shell.execute_reply": "2024-04-21T12:48:38.11167Z"
        },
        "trusted": true,
        "id": "i399-mHyF4U6"
      },
      "outputs": [],
      "execution_count": null
    },
    {
      "cell_type": "code",
      "source": [
        "# There want much change in the score after doing bagging"
      ],
      "metadata": {
        "execution": {
          "iopub.status.busy": "2024-04-21T12:48:38.114524Z",
          "iopub.execute_input": "2024-04-21T12:48:38.11558Z",
          "iopub.status.idle": "2024-04-21T12:48:38.126596Z",
          "shell.execute_reply.started": "2024-04-21T12:48:38.115528Z",
          "shell.execute_reply": "2024-04-21T12:48:38.125193Z"
        },
        "trusted": true,
        "id": "WBQKg00kF4U6"
      },
      "outputs": [],
      "execution_count": null
    },
    {
      "cell_type": "markdown",
      "source": [
        "## Model 3 : Using Xgboost"
      ],
      "metadata": {
        "id": "Fw_ud73-F4U6"
      }
    },
    {
      "cell_type": "code",
      "source": [
        "import xgboost as xgb"
      ],
      "metadata": {
        "execution": {
          "iopub.status.busy": "2024-04-21T12:48:38.128439Z",
          "iopub.execute_input": "2024-04-21T12:48:38.129073Z",
          "iopub.status.idle": "2024-04-21T12:48:38.329599Z",
          "shell.execute_reply.started": "2024-04-21T12:48:38.129006Z",
          "shell.execute_reply": "2024-04-21T12:48:38.32837Z"
        },
        "trusted": true,
        "id": "2P5kCGG5F4U9"
      },
      "outputs": [],
      "execution_count": null
    },
    {
      "cell_type": "code",
      "source": [
        "xgb_model = xgb.XGBClassifier(random_state=42)"
      ],
      "metadata": {
        "execution": {
          "iopub.status.busy": "2024-04-21T12:48:38.331142Z",
          "iopub.execute_input": "2024-04-21T12:48:38.33157Z",
          "iopub.status.idle": "2024-04-21T12:48:38.337862Z",
          "shell.execute_reply.started": "2024-04-21T12:48:38.331528Z",
          "shell.execute_reply": "2024-04-21T12:48:38.336662Z"
        },
        "trusted": true,
        "id": "OwU9Bi6pF4U-"
      },
      "outputs": [],
      "execution_count": null
    },
    {
      "cell_type": "code",
      "source": [
        "#xgb_model.fit(xtrain_selected, ytrain)"
      ],
      "metadata": {
        "execution": {
          "iopub.status.busy": "2024-04-21T12:48:38.339767Z",
          "iopub.execute_input": "2024-04-21T12:48:38.340325Z",
          "iopub.status.idle": "2024-04-21T12:48:38.348764Z",
          "shell.execute_reply.started": "2024-04-21T12:48:38.340273Z",
          "shell.execute_reply": "2024-04-21T12:48:38.347297Z"
        },
        "trusted": true,
        "id": "ZjnnYzt4F4U-"
      },
      "outputs": [],
      "execution_count": null
    },
    {
      "cell_type": "code",
      "source": [
        "#y_pred = xgb_model.predict(xtest_selected)"
      ],
      "metadata": {
        "execution": {
          "iopub.status.busy": "2024-04-21T12:48:38.350192Z",
          "iopub.execute_input": "2024-04-21T12:48:38.350586Z",
          "iopub.status.idle": "2024-04-21T12:48:38.36147Z",
          "shell.execute_reply.started": "2024-04-21T12:48:38.350542Z",
          "shell.execute_reply": "2024-04-21T12:48:38.360244Z"
        },
        "trusted": true,
        "id": "iSx42uqNF4U-"
      },
      "outputs": [],
      "execution_count": null
    },
    {
      "cell_type": "code",
      "source": [
        "# accuracy = accuracy_score(ytest, y_pred)\n",
        "# print(\"Accuracy:\", accuracy)"
      ],
      "metadata": {
        "execution": {
          "iopub.status.busy": "2024-04-21T12:48:38.362979Z",
          "iopub.execute_input": "2024-04-21T12:48:38.363517Z",
          "iopub.status.idle": "2024-04-21T12:48:38.373215Z",
          "shell.execute_reply.started": "2024-04-21T12:48:38.363472Z",
          "shell.execute_reply": "2024-04-21T12:48:38.371885Z"
        },
        "trusted": true,
        "id": "qyHRAWzqF4U-"
      },
      "outputs": [],
      "execution_count": null
    },
    {
      "cell_type": "code",
      "source": [
        "# Defining the hyperparameters grid\n",
        "param_grid = {\n",
        "    'eta': [0.1, 0.2, 0.3, 0.4, 0.5],\n",
        "    'max_depth': [3, 4, 5, 6, 7],\n",
        "    'min_child_weight': [1, 2, 3, 4, 5]\n",
        "}\n",
        "\n",
        "# # Performing grid search\n",
        "# grid_search = GridSearchCV(estimator=xgb_model, param_grid=param_grid, cv=2, scoring='accuracy',verbose=2)\n",
        "# grid_search.fit(xtrain_selected, ytrain)\n",
        "\n",
        "# # # Getting the best hyperparameters\n",
        "# best_params = grid_search.best_params_\n",
        "# print(\"Best hyperparameters:\", best_params)"
      ],
      "metadata": {
        "execution": {
          "iopub.status.busy": "2024-04-21T12:48:38.374671Z",
          "iopub.execute_input": "2024-04-21T12:48:38.375047Z",
          "iopub.status.idle": "2024-04-21T12:48:38.386807Z",
          "shell.execute_reply.started": "2024-04-21T12:48:38.375016Z",
          "shell.execute_reply": "2024-04-21T12:48:38.385694Z"
        },
        "trusted": true,
        "id": "oySR1O5VF4U-"
      },
      "outputs": [],
      "execution_count": null
    },
    {
      "cell_type": "code",
      "source": [
        "from sklearn.model_selection import cross_val_score\n",
        "import numpy as np\n",
        "\n",
        "# Defining your XGBoost model with the chosen hyperparameters\n",
        "xgb_model = xgb.XGBClassifier(eta=0.4, max_depth=3, min_child_weight=1, reg_alpha= 0.5, reg_lambda= 0.5)\n",
        "\n",
        "# # Performing cross-validation\n",
        "# cv_scores = cross_val_score(xgb_model, xtrain_selected, ytrain, cv=5, scoring='accuracy')\n",
        "\n",
        "# # Printing the cross-validation scores\n",
        "# print(\"Cross-validation scores:\", cv_scores)\n",
        "\n",
        "# # Calculating and printing the mean and standard deviation of the cross-validation scores\n",
        "# print(\"Mean CV score:\", np.mean(cv_scores))\n",
        "# print(\"Standard deviation of CV scores:\", np.std(cv_scores))"
      ],
      "metadata": {
        "execution": {
          "iopub.status.busy": "2024-04-21T12:48:38.38825Z",
          "iopub.execute_input": "2024-04-21T12:48:38.38864Z",
          "iopub.status.idle": "2024-04-21T12:48:38.404271Z",
          "shell.execute_reply.started": "2024-04-21T12:48:38.388607Z",
          "shell.execute_reply": "2024-04-21T12:48:38.403069Z"
        },
        "trusted": true,
        "id": "lSeKwPc7F4U-"
      },
      "outputs": [],
      "execution_count": null
    },
    {
      "cell_type": "code",
      "source": [
        "# Defining the XGBoost model with the best hyperparameters from grid search\n",
        "xgb_model_reg = xgb.XGBClassifier(eta=0.4, max_depth=3, min_child_weight=1)\n",
        "\n",
        "# Defining the hyperparameters grid for regularization\n",
        "param_grid_reg = {\n",
        "    'reg_alpha': [0.1, 0.5, 1.0],\n",
        "    'reg_lambda': [0.1, 0.5, 1.0]\n",
        "}\n",
        "\n",
        "# # Performing grid search for regularization\n",
        "# grid_search_reg = GridSearchCV(estimator=xgb_model_reg, param_grid=param_grid_reg, cv=5, scoring='accuracy')\n",
        "# grid_search_reg.fit(xtrain_selected, ytrain)\n",
        "\n",
        "# # Getting the best regularization parameters\n",
        "# best_params_reg = grid_search_reg.best_params_\n",
        "# print(\"Best regularization parameters:\", best_params_reg)"
      ],
      "metadata": {
        "execution": {
          "iopub.status.busy": "2024-04-21T12:48:38.405681Z",
          "iopub.execute_input": "2024-04-21T12:48:38.406086Z",
          "iopub.status.idle": "2024-04-21T12:48:38.417659Z",
          "shell.execute_reply.started": "2024-04-21T12:48:38.406049Z",
          "shell.execute_reply": "2024-04-21T12:48:38.416554Z"
        },
        "trusted": true,
        "id": "U7RyZRQuF4U_"
      },
      "outputs": [],
      "execution_count": null
    },
    {
      "cell_type": "code",
      "source": [
        "best_xgb_model = xgb.XGBClassifier(random_state=42, eta=0.4, max_depth=3, min_child_weight=1, reg_alpha= 0.5, reg_lambda= 0.5)"
      ],
      "metadata": {
        "execution": {
          "iopub.status.busy": "2024-04-21T12:48:38.41909Z",
          "iopub.execute_input": "2024-04-21T12:48:38.419505Z",
          "iopub.status.idle": "2024-04-21T12:48:38.429904Z",
          "shell.execute_reply.started": "2024-04-21T12:48:38.419454Z",
          "shell.execute_reply": "2024-04-21T12:48:38.428857Z"
        },
        "trusted": true,
        "id": "DG1TBV9FF4U_"
      },
      "outputs": [],
      "execution_count": null
    },
    {
      "cell_type": "code",
      "source": [
        "best_xgb_model.fit(xtrain_selected, ytrain)"
      ],
      "metadata": {
        "execution": {
          "iopub.status.busy": "2024-04-21T12:48:38.431339Z",
          "iopub.execute_input": "2024-04-21T12:48:38.431868Z",
          "iopub.status.idle": "2024-04-21T12:49:19.689363Z",
          "shell.execute_reply.started": "2024-04-21T12:48:38.431799Z",
          "shell.execute_reply": "2024-04-21T12:49:19.688392Z"
        },
        "trusted": true,
        "id": "4Pt45F2-F4U_"
      },
      "outputs": [],
      "execution_count": null
    },
    {
      "cell_type": "code",
      "source": [
        "y_pred = best_xgb_model.predict(xtest_selected)"
      ],
      "metadata": {
        "execution": {
          "iopub.status.busy": "2024-04-21T12:49:19.690649Z",
          "iopub.execute_input": "2024-04-21T12:49:19.690997Z",
          "iopub.status.idle": "2024-04-21T12:49:19.737555Z",
          "shell.execute_reply.started": "2024-04-21T12:49:19.690968Z",
          "shell.execute_reply": "2024-04-21T12:49:19.736496Z"
        },
        "trusted": true,
        "id": "TolBCWiJF4U_"
      },
      "outputs": [],
      "execution_count": null
    },
    {
      "cell_type": "code",
      "source": [
        "accuracy = accuracy_score(ytest, y_pred)\n",
        "print(\"Accuracy:\", accuracy)"
      ],
      "metadata": {
        "execution": {
          "iopub.status.busy": "2024-04-21T12:49:19.738919Z",
          "iopub.execute_input": "2024-04-21T12:49:19.740053Z",
          "iopub.status.idle": "2024-04-21T12:49:19.746107Z",
          "shell.execute_reply.started": "2024-04-21T12:49:19.740011Z",
          "shell.execute_reply": "2024-04-21T12:49:19.745178Z"
        },
        "trusted": true,
        "id": "NzRdttBlF4VA"
      },
      "outputs": [],
      "execution_count": null
    },
    {
      "cell_type": "markdown",
      "source": [
        "## Model 4 : Using Lightgbm"
      ],
      "metadata": {
        "id": "Fs7Y9ZPbF4VA"
      }
    },
    {
      "cell_type": "code",
      "source": [
        "import lightgbm as lgb"
      ],
      "metadata": {
        "execution": {
          "iopub.status.busy": "2024-04-21T12:49:19.74776Z",
          "iopub.execute_input": "2024-04-21T12:49:19.748133Z",
          "iopub.status.idle": "2024-04-21T12:49:20.824094Z",
          "shell.execute_reply.started": "2024-04-21T12:49:19.748102Z",
          "shell.execute_reply": "2024-04-21T12:49:20.82316Z"
        },
        "trusted": true,
        "id": "LeA43YGyF4VA"
      },
      "outputs": [],
      "execution_count": null
    },
    {
      "cell_type": "code",
      "source": [
        "lgb_model = lgb.LGBMClassifier(n_estimators=100)"
      ],
      "metadata": {
        "execution": {
          "iopub.status.busy": "2024-04-21T12:49:20.825307Z",
          "iopub.execute_input": "2024-04-21T12:49:20.825641Z",
          "iopub.status.idle": "2024-04-21T12:49:20.830335Z",
          "shell.execute_reply.started": "2024-04-21T12:49:20.825612Z",
          "shell.execute_reply": "2024-04-21T12:49:20.829266Z"
        },
        "trusted": true,
        "id": "KpFcfeW1F4VA"
      },
      "outputs": [],
      "execution_count": null
    },
    {
      "cell_type": "code",
      "source": [
        "# lgb_model.fit(xtrain_selected, ytrain)"
      ],
      "metadata": {
        "execution": {
          "iopub.status.busy": "2024-04-21T12:49:20.831574Z",
          "iopub.execute_input": "2024-04-21T12:49:20.831902Z",
          "iopub.status.idle": "2024-04-21T12:49:20.840942Z",
          "shell.execute_reply.started": "2024-04-21T12:49:20.831871Z",
          "shell.execute_reply": "2024-04-21T12:49:20.839886Z"
        },
        "trusted": true,
        "id": "tYIdi45_F4VA"
      },
      "outputs": [],
      "execution_count": null
    },
    {
      "cell_type": "code",
      "source": [
        "# y_pred = lgb_model.predict(xtest_selected)"
      ],
      "metadata": {
        "execution": {
          "iopub.status.busy": "2024-04-21T12:49:20.841984Z",
          "iopub.execute_input": "2024-04-21T12:49:20.842278Z",
          "iopub.status.idle": "2024-04-21T12:49:20.851117Z",
          "shell.execute_reply.started": "2024-04-21T12:49:20.842252Z",
          "shell.execute_reply": "2024-04-21T12:49:20.850038Z"
        },
        "trusted": true,
        "id": "p0rJRSEfF4VA"
      },
      "outputs": [],
      "execution_count": null
    },
    {
      "cell_type": "code",
      "source": [
        "# accuracy = accuracy_score(ytest, y_pred)\n",
        "# print(\"Accuracy:\", accuracy)"
      ],
      "metadata": {
        "execution": {
          "iopub.status.busy": "2024-04-21T12:49:20.852634Z",
          "iopub.execute_input": "2024-04-21T12:49:20.853178Z",
          "iopub.status.idle": "2024-04-21T12:49:20.861698Z",
          "shell.execute_reply.started": "2024-04-21T12:49:20.85314Z",
          "shell.execute_reply": "2024-04-21T12:49:20.860643Z"
        },
        "trusted": true,
        "id": "RVjLdX_XF4VB"
      },
      "outputs": [],
      "execution_count": null
    },
    {
      "cell_type": "code",
      "source": [
        "param_dist = {\n",
        "    'objective': ['binary'],\n",
        "    'boosting': ['gbdt', 'dart'],\n",
        "    'num_leaves': randint(20, 100),\n",
        "    'learning_rate': uniform(0.01, 0.5),\n",
        "    'feature_fraction': uniform(0.5, 0.5),\n",
        "    'bagging_fraction': uniform(0.5, 0.5),\n",
        "    'bagging_freq': randint(1, 10),\n",
        "    'max_depth': randint(5, 20),\n",
        "    'min_child_samples': randint(5, 100),\n",
        "    'reg_alpha': uniform(0, 2),\n",
        "    'reg_lambda': uniform(0, 2),\n",
        "    'scale_pos_weight': uniform(1, 10)\n",
        "}"
      ],
      "metadata": {
        "execution": {
          "iopub.status.busy": "2024-04-21T12:49:20.863176Z",
          "iopub.execute_input": "2024-04-21T12:49:20.863957Z",
          "iopub.status.idle": "2024-04-21T12:49:20.881171Z",
          "shell.execute_reply.started": "2024-04-21T12:49:20.863918Z",
          "shell.execute_reply": "2024-04-21T12:49:20.880035Z"
        },
        "trusted": true,
        "id": "oDQpHOg0F4VB"
      },
      "outputs": [],
      "execution_count": null
    },
    {
      "cell_type": "code",
      "source": [
        "random_search = RandomizedSearchCV(estimator=lgb_model, param_distributions=param_dist, n_iter=50,\n",
        "                                   scoring='accuracy', cv=5, random_state=42, n_jobs=-1)"
      ],
      "metadata": {
        "execution": {
          "iopub.status.busy": "2024-04-21T12:49:20.882525Z",
          "iopub.execute_input": "2024-04-21T12:49:20.883108Z",
          "iopub.status.idle": "2024-04-21T12:49:20.892814Z",
          "shell.execute_reply.started": "2024-04-21T12:49:20.883068Z",
          "shell.execute_reply": "2024-04-21T12:49:20.891789Z"
        },
        "trusted": true,
        "id": "Hv7NNvr2F4VB"
      },
      "outputs": [],
      "execution_count": null
    },
    {
      "cell_type": "code",
      "source": [
        "# random_search.fit(xtrain_selected, ytrain)"
      ],
      "metadata": {
        "execution": {
          "iopub.status.busy": "2024-04-21T12:49:20.894225Z",
          "iopub.execute_input": "2024-04-21T12:49:20.894952Z",
          "iopub.status.idle": "2024-04-21T12:49:20.904235Z",
          "shell.execute_reply.started": "2024-04-21T12:49:20.894918Z",
          "shell.execute_reply": "2024-04-21T12:49:20.90325Z"
        },
        "trusted": true,
        "id": "ANiaxDWQF4VB"
      },
      "outputs": [],
      "execution_count": null
    },
    {
      "cell_type": "code",
      "source": [
        "# print(\"Best parameters found: \", random_search.best_params_)\n",
        "# print(\"Best accuracy score: \", random_search.best_score_)"
      ],
      "metadata": {
        "execution": {
          "iopub.status.busy": "2024-04-21T12:49:20.905678Z",
          "iopub.execute_input": "2024-04-21T12:49:20.906462Z",
          "iopub.status.idle": "2024-04-21T12:49:20.91587Z",
          "shell.execute_reply.started": "2024-04-21T12:49:20.906423Z",
          "shell.execute_reply": "2024-04-21T12:49:20.914893Z"
        },
        "trusted": true,
        "id": "jNynxCY_F4VB"
      },
      "outputs": [],
      "execution_count": null
    },
    {
      "cell_type": "markdown",
      "source": [
        "<em><strong>Parameteres and accuracy score for different randomized search of lgmclassifier model</em></strong>\n",
        "\n",
        "1. Best parameters found:  {'bagging_fraction': 0.542673732496884, 'bagging_freq': 4, 'boosting': 'dart', 'feature_fraction': 0.7703175608050532, 'learning_rate': 0.3287149507491033, 'max_depth': 8, 'min_child_samples': 20, 'num_leaves': 32, 'objective': 'binary', 'reg_alpha': 1.939073734228318, 'reg_lambda': 1.4291902083599042, 'scale_pos_weight': 1.410675167678758}\n",
        "<br>\n",
        " Best accuracy score:  0.7695269526952696\n",
        "<br>\n",
        "2. Best parameters found:  {'bagging_fraction': 0.9576068638132402, 'bagging_freq': 2, 'boosting': 'dart', 'feature_fraction': 0.7746133323530602, 'learning_rate': 0.3672979613500312, 'max_depth': 12, 'min_child_samples': 5, 'num_leaves': 35, 'objective': 'binary', 'reg_alpha': 1.0333925148531333, 'reg_lambda': 1.3142226570003337, 'scale_pos_weight': 5.3567289867789105}\n",
        " <br>\n",
        "Best accuracy score:  0.7704437110377703\n",
        "\n",
        "3. Best parameters found:  {'bagging_fraction': 0.9143687545759647, 'bagging_freq': 9, 'boosting': 'dart', 'feature_fraction': 0.8035171238433423, 'learning_rate': 0.1479995910112717, 'max_depth': 17, 'min_child_samples': 19, 'num_leaves': 64, 'objective': 'binary', 'reg_alpha': 0.14910128735954165, 'reg_lambda': 1.9737738732010346, 'scale_pos_weight': 8.722447692966574}\n",
        "<br>\n",
        "Best accuracy score:  0.7718193665734946"
      ],
      "metadata": {
        "id": "LBuC0SAdF4VB"
      }
    },
    {
      "cell_type": "code",
      "source": [
        "best_lgm = lgb.LGBMClassifier(n_estimators=100, bagging_fraction= 0.9143687545759647, bagging_freq=9, boosting='dart', feature_fraction=0.8035171238433423, learning_rate=0.1479995910112717, max_depth=17, min_child_samples=19, num_leaves=64, objective='binary', reg_alpha=0.14910128735954165, reg_lambda=1.9737738732010346, scale_pos_weight=8.722447692966574)"
      ],
      "metadata": {
        "execution": {
          "iopub.status.busy": "2024-04-21T12:49:20.917221Z",
          "iopub.execute_input": "2024-04-21T12:49:20.917555Z",
          "iopub.status.idle": "2024-04-21T12:49:20.927637Z",
          "shell.execute_reply.started": "2024-04-21T12:49:20.917518Z",
          "shell.execute_reply": "2024-04-21T12:49:20.926669Z"
        },
        "trusted": true,
        "id": "fX8Js5XwF4VC"
      },
      "outputs": [],
      "execution_count": null
    },
    {
      "cell_type": "code",
      "source": [
        "# best_lgm.fit(xtrain_selected, ytrain)"
      ],
      "metadata": {
        "execution": {
          "iopub.status.busy": "2024-04-21T12:49:20.929067Z",
          "iopub.execute_input": "2024-04-21T12:49:20.92982Z",
          "iopub.status.idle": "2024-04-21T12:49:20.937282Z",
          "shell.execute_reply.started": "2024-04-21T12:49:20.929781Z",
          "shell.execute_reply": "2024-04-21T12:49:20.936173Z"
        },
        "trusted": true,
        "id": "XkZLQqYQF4VC"
      },
      "outputs": [],
      "execution_count": null
    },
    {
      "cell_type": "code",
      "source": [
        "# best_lgm.score(xtest_selected, ytest)"
      ],
      "metadata": {
        "execution": {
          "iopub.status.busy": "2024-04-21T12:49:20.938618Z",
          "iopub.execute_input": "2024-04-21T12:49:20.939009Z",
          "iopub.status.idle": "2024-04-21T12:49:20.948162Z",
          "shell.execute_reply.started": "2024-04-21T12:49:20.938978Z",
          "shell.execute_reply": "2024-04-21T12:49:20.947095Z"
        },
        "trusted": true,
        "id": "zmjFC4DyF4VC"
      },
      "outputs": [],
      "execution_count": null
    },
    {
      "cell_type": "markdown",
      "source": [
        "## Model 5 : Using SVC"
      ],
      "metadata": {
        "id": "3XzHAYOoF4VC"
      }
    },
    {
      "cell_type": "code",
      "source": [
        "from sklearn.svm import SVC"
      ],
      "metadata": {
        "execution": {
          "iopub.status.busy": "2024-04-21T12:49:20.949689Z",
          "iopub.execute_input": "2024-04-21T12:49:20.950077Z",
          "iopub.status.idle": "2024-04-21T12:49:20.958127Z",
          "shell.execute_reply.started": "2024-04-21T12:49:20.950043Z",
          "shell.execute_reply": "2024-04-21T12:49:20.957046Z"
        },
        "trusted": true,
        "id": "xDLLNhnWF4VC"
      },
      "outputs": [],
      "execution_count": null
    },
    {
      "cell_type": "code",
      "source": [
        "svc = SVC()"
      ],
      "metadata": {
        "execution": {
          "iopub.status.busy": "2024-04-21T12:49:20.959509Z",
          "iopub.execute_input": "2024-04-21T12:49:20.960426Z",
          "iopub.status.idle": "2024-04-21T12:49:20.969423Z",
          "shell.execute_reply.started": "2024-04-21T12:49:20.960392Z",
          "shell.execute_reply": "2024-04-21T12:49:20.968381Z"
        },
        "trusted": true,
        "id": "6SdmPzX0F4VD"
      },
      "outputs": [],
      "execution_count": null
    },
    {
      "cell_type": "code",
      "source": [
        "# svc.fit(xtrain_selected, ytrain)"
      ],
      "metadata": {
        "execution": {
          "iopub.status.busy": "2024-04-21T12:49:20.970486Z",
          "iopub.execute_input": "2024-04-21T12:49:20.970842Z",
          "iopub.status.idle": "2024-04-21T12:49:20.979984Z",
          "shell.execute_reply.started": "2024-04-21T12:49:20.970791Z",
          "shell.execute_reply": "2024-04-21T12:49:20.9789Z"
        },
        "trusted": true,
        "id": "PbhQtQALF4VD"
      },
      "outputs": [],
      "execution_count": null
    },
    {
      "cell_type": "code",
      "source": [
        "# svc.score(xtest_selected, ytest)"
      ],
      "metadata": {
        "execution": {
          "iopub.status.busy": "2024-04-21T12:49:20.981212Z",
          "iopub.execute_input": "2024-04-21T12:49:20.981577Z",
          "iopub.status.idle": "2024-04-21T12:49:20.990526Z",
          "shell.execute_reply.started": "2024-04-21T12:49:20.981529Z",
          "shell.execute_reply": "2024-04-21T12:49:20.989504Z"
        },
        "trusted": true,
        "id": "9AvqVBHlF4VD"
      },
      "outputs": [],
      "execution_count": null
    },
    {
      "cell_type": "code",
      "source": [
        "# Using for loop to try different parameters values for hypertuning because\n",
        "# grid search or random search was taking too much time"
      ],
      "metadata": {
        "execution": {
          "iopub.status.busy": "2024-04-21T12:49:20.991725Z",
          "iopub.execute_input": "2024-04-21T12:49:20.992071Z",
          "iopub.status.idle": "2024-04-21T12:49:21.00178Z",
          "shell.execute_reply.started": "2024-04-21T12:49:20.992041Z",
          "shell.execute_reply": "2024-04-21T12:49:21.000719Z"
        },
        "trusted": true,
        "id": "EGKfHfE3F4VD"
      },
      "outputs": [],
      "execution_count": null
    },
    {
      "cell_type": "code",
      "source": [
        "# for c in [0.1, 1, 10, 100]:\n",
        "#     svc = SVC(C=c)\n",
        "#     svc.fit(xtrain_selected, ytrain)\n",
        "#     y_pred = svc.predict(xtest_selected)\n",
        "#     accuracy = accuracy_score(ytest, y_pred)\n",
        "#     print(\"Accuracy:\",accuracy)"
      ],
      "metadata": {
        "execution": {
          "iopub.status.busy": "2024-04-21T12:49:21.003424Z",
          "iopub.execute_input": "2024-04-21T12:49:21.003877Z",
          "iopub.status.idle": "2024-04-21T12:49:21.012789Z",
          "shell.execute_reply.started": "2024-04-21T12:49:21.003818Z",
          "shell.execute_reply": "2024-04-21T12:49:21.011841Z"
        },
        "trusted": true,
        "id": "4wD_l_ynF4VD"
      },
      "outputs": [],
      "execution_count": null
    },
    {
      "cell_type": "markdown",
      "source": [
        "Accuracy at c=0.1 is 0.7554985337243402<br>\n",
        "Accuracy at c=1 is 0.7602639296187683<br>\n",
        "Accuracy at c=10 is 0.7690615835777126<br>\n",
        "Accuracy at c=100 is 0.7694281524926686<br>"
      ],
      "metadata": {
        "id": "ADlb8X97F4VE"
      }
    },
    {
      "cell_type": "code",
      "source": [
        "# for g in [0.1, 0.01, 0.001, 0.001]:\n",
        "#     svc = SVC(C=100, gamma=g)\n",
        "#     svc.fit(xtrain_selected, ytrain)\n",
        "#     y_pred = svc.predict(xtest_selected)\n",
        "#     accuracy = accuracy_score(ytest, y_pred)\n",
        "#     print(\"Accuracy:\",accuracy)"
      ],
      "metadata": {
        "execution": {
          "iopub.status.busy": "2024-04-21T12:49:21.014195Z",
          "iopub.execute_input": "2024-04-21T12:49:21.014551Z",
          "iopub.status.idle": "2024-04-21T12:49:21.027346Z",
          "shell.execute_reply.started": "2024-04-21T12:49:21.014513Z",
          "shell.execute_reply": "2024-04-21T12:49:21.026217Z"
        },
        "trusted": true,
        "id": "bqGjCxWwF4VE"
      },
      "outputs": [],
      "execution_count": null
    },
    {
      "cell_type": "markdown",
      "source": [
        "Accuracy at gamma = 0.1: 0.7144428152492669 <br>\n",
        "Accuracy at gamma = 0.001: 0.7697947214076246 <br>\n",
        "Accuracy at gamma=0.0001: 0.7554985337243402 <br>"
      ],
      "metadata": {
        "id": "Hw7-iP1UF4VE"
      }
    },
    {
      "cell_type": "code",
      "source": [
        "from sklearn.model_selection import cross_val_score\n",
        "import numpy as np\n",
        "\n",
        "# Defining your XGBoost model with the chosen hyperparameters\n",
        "svc_model = SVC(C=200, gamma=0.01)\n",
        "\n",
        "# # # Performing cross-validation\n",
        "# cv_scores = cross_val_score(svc_model, xtrain_selected, ytrain, cv=5, scoring='accuracy')\n",
        "\n",
        "# # # Printing the cross-validation scores\n",
        "# print(\"Cross-validation scores:\", cv_scores)\n",
        "\n",
        "# # # Calculating and printing the mean and standard deviation of the cross-validation scores\n",
        "# print(\"Mean CV score:\", np.mean(cv_scores))\n",
        "# print(\"Standard deviation of CV scores:\", np.std(cv_scores))"
      ],
      "metadata": {
        "execution": {
          "iopub.status.busy": "2024-04-21T12:49:21.028874Z",
          "iopub.execute_input": "2024-04-21T12:49:21.029398Z",
          "iopub.status.idle": "2024-04-21T12:49:21.039246Z",
          "shell.execute_reply.started": "2024-04-21T12:49:21.029363Z",
          "shell.execute_reply": "2024-04-21T12:49:21.038089Z"
        },
        "trusted": true,
        "id": "XZPshYn2F4VE"
      },
      "outputs": [],
      "execution_count": null
    },
    {
      "cell_type": "code",
      "source": [
        "best_svc = SVC(C=100, gamma=0.01)\n",
        "# best_svc.fit(xtrain_selected, ytrain)"
      ],
      "metadata": {
        "execution": {
          "iopub.status.busy": "2024-04-21T12:49:21.040582Z",
          "iopub.execute_input": "2024-04-21T12:49:21.040989Z",
          "iopub.status.idle": "2024-04-21T12:49:21.049982Z",
          "shell.execute_reply.started": "2024-04-21T12:49:21.040956Z",
          "shell.execute_reply": "2024-04-21T12:49:21.048841Z"
        },
        "trusted": true,
        "id": "X_mX3_n9F4VF"
      },
      "outputs": [],
      "execution_count": null
    },
    {
      "cell_type": "code",
      "source": [
        "# y_pred = best_svc.predict(xtest_selected)"
      ],
      "metadata": {
        "execution": {
          "iopub.status.busy": "2024-04-21T12:49:21.051704Z",
          "iopub.execute_input": "2024-04-21T12:49:21.052245Z",
          "iopub.status.idle": "2024-04-21T12:49:21.059768Z",
          "shell.execute_reply.started": "2024-04-21T12:49:21.052202Z",
          "shell.execute_reply": "2024-04-21T12:49:21.058801Z"
        },
        "trusted": true,
        "id": "nZ9rYRJ2F4VF"
      },
      "outputs": [],
      "execution_count": null
    },
    {
      "cell_type": "code",
      "source": [
        "# accuracy_score(ytest, y_pred)"
      ],
      "metadata": {
        "execution": {
          "iopub.status.busy": "2024-04-21T12:49:21.061124Z",
          "iopub.execute_input": "2024-04-21T12:49:21.062033Z",
          "iopub.status.idle": "2024-04-21T12:49:21.069933Z",
          "shell.execute_reply.started": "2024-04-21T12:49:21.061998Z",
          "shell.execute_reply": "2024-04-21T12:49:21.068883Z"
        },
        "trusted": true,
        "id": "ssiUVUtIF4VF"
      },
      "outputs": [],
      "execution_count": null
    },
    {
      "cell_type": "markdown",
      "source": [
        "## Analysing the prediction using confusion matrix and classification table"
      ],
      "metadata": {
        "id": "8G6qTNrSF4VG"
      }
    },
    {
      "cell_type": "code",
      "source": [
        "# I am choosing XGBoost 'models prediction of target variable for analysing\n",
        "# the difference in output through confusion matrix and classification table\n",
        "# because this model performed better than other of my models."
      ],
      "metadata": {
        "execution": {
          "iopub.status.busy": "2024-04-21T12:49:21.071509Z",
          "iopub.execute_input": "2024-04-21T12:49:21.072514Z",
          "iopub.status.idle": "2024-04-21T12:49:21.080052Z",
          "shell.execute_reply.started": "2024-04-21T12:49:21.07247Z",
          "shell.execute_reply": "2024-04-21T12:49:21.078978Z"
        },
        "trusted": true,
        "id": "64XkPVacF4VG"
      },
      "outputs": [],
      "execution_count": null
    },
    {
      "cell_type": "code",
      "source": [
        "from sklearn.metrics import confusion_matrix, classification_report"
      ],
      "metadata": {
        "execution": {
          "iopub.status.busy": "2024-04-21T12:49:21.081355Z",
          "iopub.execute_input": "2024-04-21T12:49:21.08172Z",
          "iopub.status.idle": "2024-04-21T12:49:21.092369Z",
          "shell.execute_reply.started": "2024-04-21T12:49:21.081691Z",
          "shell.execute_reply": "2024-04-21T12:49:21.091249Z"
        },
        "trusted": true,
        "id": "Xb45Y_hvF4VG"
      },
      "outputs": [],
      "execution_count": null
    },
    {
      "cell_type": "code",
      "source": [
        "# Calculating confusion matrix\n",
        "conf_matrix = confusion_matrix(ytest, y_pred)\n",
        "print(\"Confusion Matrix:\")\n",
        "print(conf_matrix)"
      ],
      "metadata": {
        "execution": {
          "iopub.status.busy": "2024-04-21T12:49:21.093743Z",
          "iopub.execute_input": "2024-04-21T12:49:21.09413Z",
          "iopub.status.idle": "2024-04-21T12:49:21.106806Z",
          "shell.execute_reply.started": "2024-04-21T12:49:21.094099Z",
          "shell.execute_reply": "2024-04-21T12:49:21.105708Z"
        },
        "trusted": true,
        "id": "lM6_orkbF4VG"
      },
      "outputs": [],
      "execution_count": null
    },
    {
      "cell_type": "code",
      "source": [
        "# Printing classification report\n",
        "class_report = classification_report(ytest, y_pred)\n",
        "print(\"Classification Report:\")\n",
        "print(class_report)"
      ],
      "metadata": {
        "execution": {
          "iopub.status.busy": "2024-04-21T12:49:21.108223Z",
          "iopub.execute_input": "2024-04-21T12:49:21.108581Z",
          "iopub.status.idle": "2024-04-21T12:49:21.126154Z",
          "shell.execute_reply.started": "2024-04-21T12:49:21.108544Z",
          "shell.execute_reply": "2024-04-21T12:49:21.125148Z"
        },
        "trusted": true,
        "id": "1W7b1jYUF4VG"
      },
      "outputs": [],
      "execution_count": null
    },
    {
      "cell_type": "code",
      "source": [
        "# The recall score of every classes as we can see is very bad, specially for class 0 , 3 and 4\n",
        "# the model is predicting many examples to be of class 5 when its actually of class 0\n",
        "# the recall score of class 5 is very good"
      ],
      "metadata": {
        "execution": {
          "iopub.status.busy": "2024-04-21T12:49:21.127391Z",
          "iopub.execute_input": "2024-04-21T12:49:21.127732Z",
          "iopub.status.idle": "2024-04-21T12:49:21.132253Z",
          "shell.execute_reply.started": "2024-04-21T12:49:21.127702Z",
          "shell.execute_reply": "2024-04-21T12:49:21.13108Z"
        },
        "trusted": true,
        "id": "Y0SHf83rF4VG"
      },
      "outputs": [],
      "execution_count": null
    },
    {
      "cell_type": "markdown",
      "source": [
        "## Preprocessing of test data to predict target values"
      ],
      "metadata": {
        "id": "LFpjHSQgF4VH"
      }
    },
    {
      "cell_type": "code",
      "source": [
        "test.shape"
      ],
      "metadata": {
        "execution": {
          "iopub.status.busy": "2024-04-21T12:49:21.133543Z",
          "iopub.execute_input": "2024-04-21T12:49:21.133957Z",
          "iopub.status.idle": "2024-04-21T12:49:21.14692Z",
          "shell.execute_reply.started": "2024-04-21T12:49:21.133924Z",
          "shell.execute_reply": "2024-04-21T12:49:21.145951Z"
        },
        "trusted": true,
        "id": "GQzxK2_UF4VH"
      },
      "outputs": [],
      "execution_count": null
    },
    {
      "cell_type": "code",
      "source": [
        "test = test.drop(columns = ['RecipeName', 'CommentID', 'UserID', 'UserName', 'CreationTimestamp'])"
      ],
      "metadata": {
        "execution": {
          "iopub.status.busy": "2024-04-21T12:49:21.148147Z",
          "iopub.execute_input": "2024-04-21T12:49:21.148473Z",
          "iopub.status.idle": "2024-04-21T12:49:21.158877Z",
          "shell.execute_reply.started": "2024-04-21T12:49:21.148444Z",
          "shell.execute_reply": "2024-04-21T12:49:21.157704Z"
        },
        "trusted": true,
        "id": "bwI3XUemF4VH"
      },
      "outputs": [],
      "execution_count": null
    },
    {
      "cell_type": "code",
      "source": [
        "test_text = test['Recipe_Review']\n",
        "test_numerical = test.drop(columns = ['Recipe_Review'])"
      ],
      "metadata": {
        "execution": {
          "iopub.status.busy": "2024-04-21T12:49:21.160254Z",
          "iopub.execute_input": "2024-04-21T12:49:21.160604Z",
          "iopub.status.idle": "2024-04-21T12:49:21.17436Z",
          "shell.execute_reply.started": "2024-04-21T12:49:21.160574Z",
          "shell.execute_reply": "2024-04-21T12:49:21.173316Z"
        },
        "trusted": true,
        "id": "eEtxZwPIF4VH"
      },
      "outputs": [],
      "execution_count": null
    },
    {
      "cell_type": "code",
      "source": [
        "test_numerical = test_numerical.drop(columns = ['ThumbsUpCount', 'ThumbsDownCount'])"
      ],
      "metadata": {
        "execution": {
          "iopub.status.busy": "2024-04-21T12:49:21.175793Z",
          "iopub.execute_input": "2024-04-21T12:49:21.176173Z",
          "iopub.status.idle": "2024-04-21T12:49:21.185577Z",
          "shell.execute_reply.started": "2024-04-21T12:49:21.176121Z",
          "shell.execute_reply": "2024-04-21T12:49:21.18458Z"
        },
        "trusted": true,
        "id": "LriPeBYfF4VH"
      },
      "outputs": [],
      "execution_count": null
    },
    {
      "cell_type": "code",
      "source": [
        "test_numerical = test_numerical.drop(columns = ['RecipeCode'])"
      ],
      "metadata": {
        "execution": {
          "iopub.status.busy": "2024-04-21T12:49:21.187009Z",
          "iopub.execute_input": "2024-04-21T12:49:21.18778Z",
          "iopub.status.idle": "2024-04-21T12:49:21.197611Z",
          "shell.execute_reply.started": "2024-04-21T12:49:21.187744Z",
          "shell.execute_reply": "2024-04-21T12:49:21.196663Z"
        },
        "trusted": true,
        "id": "2m-yswjMF4VI"
      },
      "outputs": [],
      "execution_count": null
    },
    {
      "cell_type": "code",
      "source": [
        "# converting to lower case\n",
        "test_text = test_text.str.lower()"
      ],
      "metadata": {
        "execution": {
          "iopub.status.busy": "2024-04-21T12:49:21.198972Z",
          "iopub.execute_input": "2024-04-21T12:49:21.19937Z",
          "iopub.status.idle": "2024-04-21T12:49:21.212122Z",
          "shell.execute_reply.started": "2024-04-21T12:49:21.199332Z",
          "shell.execute_reply": "2024-04-21T12:49:21.211116Z"
        },
        "trusted": true,
        "id": "cYDXVTXOF4VI"
      },
      "outputs": [],
      "execution_count": null
    },
    {
      "cell_type": "code",
      "source": [
        "# Remove HTML entities\n",
        "test_text = test_text.apply(lambda text: regex.sub(r'&#[0-9]+;', '', text))"
      ],
      "metadata": {
        "execution": {
          "iopub.status.busy": "2024-04-21T12:49:21.213321Z",
          "iopub.execute_input": "2024-04-21T12:49:21.213653Z",
          "iopub.status.idle": "2024-04-21T12:49:21.269556Z",
          "shell.execute_reply.started": "2024-04-21T12:49:21.213624Z",
          "shell.execute_reply": "2024-04-21T12:49:21.268538Z"
        },
        "trusted": true,
        "id": "jiv3faMaF4VI"
      },
      "outputs": [],
      "execution_count": null
    },
    {
      "cell_type": "code",
      "source": [
        "# Remove non-alphanumeric characters\n",
        "test_text = test_text.apply(lambda text: regex.sub(r'[^a-zA-Z0-9\\s]', '', text))"
      ],
      "metadata": {
        "execution": {
          "iopub.status.busy": "2024-04-21T12:49:21.270774Z",
          "iopub.execute_input": "2024-04-21T12:49:21.271134Z",
          "iopub.status.idle": "2024-04-21T12:49:21.342917Z",
          "shell.execute_reply.started": "2024-04-21T12:49:21.271104Z",
          "shell.execute_reply": "2024-04-21T12:49:21.341885Z"
        },
        "trusted": true,
        "id": "yzZ8yXPOF4VJ"
      },
      "outputs": [],
      "execution_count": null
    },
    {
      "cell_type": "code",
      "source": [
        "# Tokenization\n",
        "test_text = test_text.apply(lambda text: text.split())"
      ],
      "metadata": {
        "execution": {
          "iopub.status.busy": "2024-04-21T12:49:21.344928Z",
          "iopub.execute_input": "2024-04-21T12:49:21.345257Z",
          "iopub.status.idle": "2024-04-21T12:49:21.364905Z",
          "shell.execute_reply.started": "2024-04-21T12:49:21.345227Z",
          "shell.execute_reply": "2024-04-21T12:49:21.363905Z"
        },
        "trusted": true,
        "id": "Z7wHN1tFF4VJ"
      },
      "outputs": [],
      "execution_count": null
    },
    {
      "cell_type": "code",
      "source": [
        "# Removing Stopwords\n",
        "test_text = test_text.apply(lambda tokens: [word for word in tokens if word not in ENGLISH_STOP_WORDS])"
      ],
      "metadata": {
        "execution": {
          "iopub.status.busy": "2024-04-21T12:49:21.366244Z",
          "iopub.execute_input": "2024-04-21T12:49:21.36664Z",
          "iopub.status.idle": "2024-04-21T12:49:21.618088Z",
          "shell.execute_reply.started": "2024-04-21T12:49:21.366603Z",
          "shell.execute_reply": "2024-04-21T12:49:21.617063Z"
        },
        "trusted": true,
        "id": "3NRNwZjmF4VJ"
      },
      "outputs": [],
      "execution_count": null
    },
    {
      "cell_type": "code",
      "source": [
        "# Joining Tokens Back into Text\n",
        "test_text = test_text.apply(lambda tokens: ' '.join(tokens))"
      ],
      "metadata": {
        "execution": {
          "iopub.status.busy": "2024-04-21T12:49:21.619336Z",
          "iopub.execute_input": "2024-04-21T12:49:21.619737Z",
          "iopub.status.idle": "2024-04-21T12:49:21.632472Z",
          "shell.execute_reply.started": "2024-04-21T12:49:21.619698Z",
          "shell.execute_reply": "2024-04-21T12:49:21.631311Z"
        },
        "trusted": true,
        "id": "kcfs7Z25F4VJ"
      },
      "outputs": [],
      "execution_count": null
    },
    {
      "cell_type": "code",
      "source": [
        "# Scaling Numerical Features\n",
        "test_numerical = scaler.transform(test_numerical)"
      ],
      "metadata": {
        "execution": {
          "iopub.status.busy": "2024-04-21T12:49:21.63372Z",
          "iopub.execute_input": "2024-04-21T12:49:21.634092Z",
          "iopub.status.idle": "2024-04-21T12:49:21.644984Z",
          "shell.execute_reply.started": "2024-04-21T12:49:21.634056Z",
          "shell.execute_reply": "2024-04-21T12:49:21.64407Z"
        },
        "trusted": true,
        "id": "o6DWdWG9F4VK"
      },
      "outputs": [],
      "execution_count": null
    },
    {
      "cell_type": "code",
      "source": [
        "test_vectorized = vectorizer.transform(test_text).toarray()"
      ],
      "metadata": {
        "execution": {
          "iopub.status.busy": "2024-04-21T12:49:21.646146Z",
          "iopub.execute_input": "2024-04-21T12:49:21.646454Z",
          "iopub.status.idle": "2024-04-21T12:49:21.978278Z",
          "shell.execute_reply.started": "2024-04-21T12:49:21.646426Z",
          "shell.execute_reply": "2024-04-21T12:49:21.977202Z"
        },
        "trusted": true,
        "id": "n7CqUiSvF4VK"
      },
      "outputs": [],
      "execution_count": null
    },
    {
      "cell_type": "code",
      "source": [
        "test_com = np.hstack([test_numerical, test_vectorized])"
      ],
      "metadata": {
        "execution": {
          "iopub.status.busy": "2024-04-21T12:49:21.979521Z",
          "iopub.execute_input": "2024-04-21T12:49:21.979852Z",
          "iopub.status.idle": "2024-04-21T12:49:22.262728Z",
          "shell.execute_reply.started": "2024-04-21T12:49:21.979807Z",
          "shell.execute_reply": "2024-04-21T12:49:22.261699Z"
        },
        "trusted": true,
        "id": "BKDLydV5F4VK"
      },
      "outputs": [],
      "execution_count": null
    },
    {
      "cell_type": "code",
      "source": [
        "test_selected = selector.transform(test_vectorized)"
      ],
      "metadata": {
        "execution": {
          "iopub.status.busy": "2024-04-21T12:49:22.264003Z",
          "iopub.execute_input": "2024-04-21T12:49:22.264336Z",
          "iopub.status.idle": "2024-04-21T12:49:22.506262Z",
          "shell.execute_reply.started": "2024-04-21T12:49:22.264307Z",
          "shell.execute_reply": "2024-04-21T12:49:22.505176Z"
        },
        "trusted": true,
        "id": "dqLOeXdkF4VK"
      },
      "outputs": [],
      "execution_count": null
    },
    {
      "cell_type": "code",
      "source": [
        "test_vectorized.shape, xtest_vectorized.shape, xtrain_vectorized.shape"
      ],
      "metadata": {
        "execution": {
          "iopub.status.busy": "2024-04-21T12:49:22.508053Z",
          "iopub.execute_input": "2024-04-21T12:49:22.509008Z",
          "iopub.status.idle": "2024-04-21T12:49:22.515716Z",
          "shell.execute_reply.started": "2024-04-21T12:49:22.508963Z",
          "shell.execute_reply": "2024-04-21T12:49:22.514608Z"
        },
        "trusted": true,
        "id": "n6RElc-uF4VP"
      },
      "outputs": [],
      "execution_count": null
    },
    {
      "cell_type": "code",
      "source": [
        "predictions_xgb = best_xgb_model.predict(test_selected)"
      ],
      "metadata": {
        "execution": {
          "iopub.status.busy": "2024-04-21T12:49:22.517208Z",
          "iopub.execute_input": "2024-04-21T12:49:22.518147Z",
          "iopub.status.idle": "2024-04-21T12:49:22.594903Z",
          "shell.execute_reply.started": "2024-04-21T12:49:22.518105Z",
          "shell.execute_reply": "2024-04-21T12:49:22.593908Z"
        },
        "trusted": true,
        "id": "K7kbkSGhF4VP"
      },
      "outputs": [],
      "execution_count": null
    },
    {
      "cell_type": "code",
      "source": [
        "submission = pd.DataFrame(columns = ['ID', 'Rating'])\n",
        "submission['ID'] = [i for i in range(1, len(predictions_xgb)+1)]\n",
        "submission['Rating'] = predictions_xgb\n",
        "submission.to_csv('submission.csv', index=False)"
      ],
      "metadata": {
        "execution": {
          "iopub.status.busy": "2024-04-21T12:49:22.598136Z",
          "iopub.execute_input": "2024-04-21T12:49:22.598473Z",
          "iopub.status.idle": "2024-04-21T12:49:22.618425Z",
          "shell.execute_reply.started": "2024-04-21T12:49:22.598445Z",
          "shell.execute_reply": "2024-04-21T12:49:22.617275Z"
        },
        "trusted": true,
        "id": "u9kjpnT_F4VP"
      },
      "outputs": [],
      "execution_count": null
    },
    {
      "cell_type": "code",
      "source": [],
      "metadata": {
        "id": "IJWVb9CZF4VQ"
      },
      "outputs": [],
      "execution_count": null
    },
    {
      "cell_type": "code",
      "source": [],
      "metadata": {
        "id": "2O5cktYQF4VQ"
      },
      "outputs": [],
      "execution_count": null
    },
    {
      "cell_type": "code",
      "source": [],
      "metadata": {
        "id": "-T2wzxp4F4VQ"
      },
      "outputs": [],
      "execution_count": null
    }
  ]
}